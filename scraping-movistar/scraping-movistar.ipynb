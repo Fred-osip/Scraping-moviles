{
 "cells": [
  {
   "cell_type": "code",
   "execution_count": 112,
   "id": "384632b1-6f38-4851-8ce0-89ad37ad38ff",
   "metadata": {},
   "outputs": [],
   "source": [
    "from selenium import webdriver\n",
    "from selenium.webdriver.common.by import By"
   ]
  },
  {
   "cell_type": "code",
   "execution_count": 113,
   "id": "780a0086-4445-4540-98e1-9b6a8df53fa3",
   "metadata": {},
   "outputs": [],
   "source": [
    "url = \"https://catalogo.movistar.com.pe/\""
   ]
  },
  {
   "cell_type": "code",
   "execution_count": 114,
   "id": "2fd19861-7b52-4488-9772-9477a999c7ca",
   "metadata": {},
   "outputs": [],
   "source": [
    "driver = webdriver.Chrome()"
   ]
  },
  {
   "cell_type": "code",
   "execution_count": 115,
   "id": "a6397049-859b-41c1-beac-71ec26986be7",
   "metadata": {},
   "outputs": [],
   "source": [
    "driver.get(url)"
   ]
  },
  {
   "cell_type": "code",
   "execution_count": null,
   "id": "a451ccde-ab71-4916-864e-77b6df31d889",
   "metadata": {},
   "outputs": [],
   "source": [
    "equipos = driver.find_element(By.ID, 'tab-portabilidad').find_element(By.CLASS_NAME, 'list-portabilidad').find_elements(By.TAG_NAME, 'li')\n",
    "#equipos_portabilidad = driver.find_element(By.ID, 'tab-portabilidad').find_element(By.CLASS_NAME, 'list-portabilidad').find_elements(By.TAG_NAME, 'li')\n",
    "#equipos_renovacion = driver.find_element(By.ID, 'tab-renovacion').find_element(By.CLASS_NAME, 'list-renovacion').find_elements(By.TAG_NAME, 'li')\n",
    "links = [link.find_element(By.TAG_NAME, 'a').get_attribute('href') for link in equipos]\n",
    "\n",
    "\n",
    "i=0\n",
    "for link in links:\n",
    "    i+=1\n",
    "    print(i)\n",
    "    print(link)"
   ]
  },
  {
   "cell_type": "code",
   "execution_count": null,
   "id": "f2d66740-98dc-48a8-833b-727e6da8e716",
   "metadata": {},
   "outputs": [],
   "source": [
    "names = [name.find_element(By.CLASS_NAME, 'info-grid-equipo').find_element(By.TAG_NAME, 'h2').text for name in equipos]\n",
    "\n",
    "i=0\n",
    "for name in names:\n",
    "    i+=1\n",
    "    print(i)\n",
    "    print(name)"
   ]
  },
  {
   "cell_type": "code",
   "execution_count": null,
   "id": "2ebcf307-170e-4433-9207-83a8217dfb41",
   "metadata": {},
   "outputs": [],
   "source": [
    "modalities = [modality.find_element(By.CLASS_NAME, 'info-grid-equipo').find_element(By.TAG_NAME, 'span').text for modality in equipos]\n",
    "\n",
    "i=0\n",
    "for modality in modalities:\n",
    "    i+=1\n",
    "    print(i)\n",
    "    print(modality)"
   ]
  },
  {
   "cell_type": "code",
   "execution_count": 120,
   "id": "9a397cdf-9888-4e2a-9474-db8c6a08981d",
   "metadata": {},
   "outputs": [],
   "source": [
    "driver.close()"
   ]
  },
  {
   "cell_type": "code",
   "execution_count": null,
   "id": "6d00c1e3-82a4-4f59-a3ef-84e7524e9af6",
   "metadata": {},
   "outputs": [],
   "source": [
    "i=0\n",
    "for link in links:\n",
    "    i+=1\n",
    "    print(i)\n",
    "    driver = webdriver.Chrome()\n",
    "    driver.get(link)\n",
    "    \n",
    "\n"
   ]
  },
  {
   "cell_type": "code",
   "execution_count": 129,
   "id": "34f45d35-15c9-4fd9-8cbf-34873ece5cba",
   "metadata": {},
   "outputs": [
    {
     "data": {
      "text/plain": [
       "'Renovación'"
      ]
     },
     "execution_count": 129,
     "metadata": {},
     "output_type": "execute_result"
    }
   ],
   "source": [
    "driver = webdriver.Chrome()\n",
    "driver.get(links[0])\n",
    "x_button = driver.find_element(By.CLASS_NAME, 'modals-header').find_elements(By.TAG_NAME, 'button')\n",
    "categoria_button = driver.find_element(By.CLASS_NAME, 'js_select_category').find_elements(By.TAG_NAME, 'option')\n",
    "categoria_button[1].text\n",
    "\n",
    "\n"
   ]
  },
  {
   "cell_type": "code",
   "execution_count": 137,
   "id": "52540c91-f9e6-4a60-8a53-adade9254e5c",
   "metadata": {},
   "outputs": [
    {
     "name": "stdout",
     "output_type": "stream",
     "text": [
      "128 GB\n",
      "Plan Mi Movistar S/29.90\n",
      "Plan Mi Movistar S/35.90\n",
      "Plan Mi Movistar S/39.90\n",
      "Plan Mi Movistar S/45.90\n",
      "Plan Mi Movistar S/55.90\n",
      "Plan Mi Movistar S/65.90\n",
      "Plan Ilimitado Mi Movistar S/69.90\n",
      "Plan Ilimitado Mi Movistar S/74.90\n",
      "Plan Ilimitado Mi Movistar S/85.90\n",
      "Plan Ilimitado Mi Movistar S/99.90\n",
      "Plan Ilimitado Mi Movistar S/114.90\n"
     ]
    }
   ],
   "source": [
    "driver = webdriver.Chrome()\n",
    "driver.get(links[0])\n",
    "\n",
    "memories = driver.find_element(By.CLASS_NAME, 'memory').find_elements(By.TAG_NAME, 'span')\n",
    "print(memories[0].text)\n",
    "\n",
    "#for memory in memories:\n",
    " #   memory.click()\n",
    "  #  print(memory.text)\n",
    "\n",
    "\n",
    "categoria_button = driver.find_element(By.CLASS_NAME, 'js_select_category')\n",
    "categoria_button.click()\n",
    "categoria_button = driver.find_element(By.CLASS_NAME, 'js_select_category').find_elements(By.TAG_NAME, 'option')\n",
    "categoria_button[1].click() #Elige renovación\n",
    "close_button = driver.find_element(By.CLASS_NAME, 'modal-renovacion-validar__close')\n",
    "close_button.click()\n",
    "\n",
    "fee_button = driver.find_element(By.CLASS_NAME, 'js_select_fee')\n",
    "fee_button.click()\n",
    "fee_button = driver.find_element(By.CLASS_NAME, 'js_select_fee').find_elements(By.TAG_NAME, 'option')\n",
    "fee_button[0].click() #Elige Al Contado\n",
    "\n",
    "plan_button = driver.find_element(By.CLASS_NAME, 'js_select_plan')\n",
    "plan_button.click()\n",
    "plan_button = driver.find_element(By.CLASS_NAME, 'js_select_plan').find_elements(By.TAG_NAME, 'option')\n",
    "\n",
    "\n",
    "for plan in plan_button:\n",
    "    plan.click() #Elige Al Contado\n",
    "    print(plan.text)\n",
    "    \n",
    "    \n",
    "\n",
    "\n",
    "\n",
    "\n"
   ]
  },
  {
   "cell_type": "code",
   "execution_count": null,
   "id": "32230bc0-042c-4e31-b380-555c5f380931",
   "metadata": {},
   "outputs": [],
   "source": []
  }
 ],
 "metadata": {
  "kernelspec": {
   "display_name": "Python 3 (ipykernel)",
   "language": "python",
   "name": "python3"
  },
  "language_info": {
   "codemirror_mode": {
    "name": "ipython",
    "version": 3
   },
   "file_extension": ".py",
   "mimetype": "text/x-python",
   "name": "python",
   "nbconvert_exporter": "python",
   "pygments_lexer": "ipython3",
   "version": "3.11.4"
  }
 },
 "nbformat": 4,
 "nbformat_minor": 5
}
