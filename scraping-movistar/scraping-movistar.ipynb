{
 "cells": [
  {
   "cell_type": "code",
   "execution_count": null,
   "id": "384632b1-6f38-4851-8ce0-89ad37ad38ff",
   "metadata": {},
   "outputs": [],
   "source": [
    "from selenium import webdriver\n",
    "from selenium.webdriver.common.by import By\n",
    "from selenium.webdriver.support.ui import WebDriverWait\n",
    "from selenium.webdriver.support import expected_conditions as EC\n",
    "from selenium.webdriver.common.action_chains import ActionChains\n",
    "import pandas as pd"
   ]
  },
  {
   "cell_type": "code",
   "execution_count": null,
   "id": "780a0086-4445-4540-98e1-9b6a8df53fa3",
   "metadata": {},
   "outputs": [],
   "source": [
    "url = \"https://catalogo.movistar.com.pe/\"\n",
    "datos = []\n",
    "dict = {}"
   ]
  },
  {
   "cell_type": "code",
   "execution_count": null,
   "id": "2fd19861-7b52-4488-9772-9477a999c7ca",
   "metadata": {},
   "outputs": [],
   "source": [
    "driver = webdriver.Chrome()"
   ]
  },
  {
   "cell_type": "code",
   "execution_count": null,
   "id": "a6397049-859b-41c1-beac-71ec26986be7",
   "metadata": {},
   "outputs": [],
   "source": [
    "driver.get(url)"
   ]
  },
  {
   "cell_type": "code",
   "execution_count": null,
   "id": "a451ccde-ab71-4916-864e-77b6df31d889",
   "metadata": {},
   "outputs": [],
   "source": [
    "equipos = driver.find_element(By.ID, 'tab-portabilidad').find_element(By.CLASS_NAME, 'list-portabilidad').find_elements(By.TAG_NAME, 'li')\n",
    "#print(len(equipos))\n",
    "#equipos += driver.find_element(By.ID, 'tab-renovacion').find_element(By.CLASS_NAME, 'list-renovacion').find_elements(By.TAG_NAME, 'li')\n",
    "#equipos = driver.find_element(By.ID, 'tab-renovacion').find_element(By.CLASS_NAME, 'list-renovacion').find_elements(By.TAG_NAME, 'li')\n",
    "print(len(equipos))\n",
    "#equipos = list(set(equipos)) # elimina miembros duplicados\n",
    "#print(len(equipos))\n",
    "links = [link.find_element(By.TAG_NAME, 'a').get_attribute('href') for link in equipos]\n",
    "\n",
    "for link in links:\n",
    "    print(link)\n"
   ]
  },
  {
   "cell_type": "code",
   "execution_count": null,
   "id": "f2d66740-98dc-48a8-833b-727e6da8e716",
   "metadata": {},
   "outputs": [],
   "source": [
    "names = [name.find_element(By.CLASS_NAME, 'info-grid-equipo').find_element(By.TAG_NAME, 'h2').text for name in equipos]\n",
    "\n",
    "for name in names:\n",
    "    print(name)\n",
    "\n",
    "    #datos.append(['equipo': name])"
   ]
  },
  {
   "cell_type": "code",
   "execution_count": null,
   "id": "2ebcf307-170e-4433-9207-83a8217dfb41",
   "metadata": {},
   "outputs": [],
   "source": [
    "modalities = [modality.find_element(By.CLASS_NAME, 'info-grid-equipo').find_element(By.TAG_NAME, 'span').text for modality in equipos]\n",
    "\n",
    "i=0\n",
    "for modality in modalities:\n",
    "    i+=1\n",
    "    print(i)\n",
    "    print(modality)"
   ]
  },
  {
   "cell_type": "code",
   "execution_count": null,
   "id": "9a397cdf-9888-4e2a-9474-db8c6a08981d",
   "metadata": {},
   "outputs": [],
   "source": [
    "driver.close()"
   ]
  },
  {
   "cell_type": "code",
   "execution_count": null,
   "id": "6d00c1e3-82a4-4f59-a3ef-84e7524e9af6",
   "metadata": {},
   "outputs": [],
   "source": [
    "i=0\n",
    "for link in links:\n",
    "    i+=1\n",
    "    print(i)\n",
    "    driver = webdriver.Chrome()\n",
    "    driver.get(link)\n",
    "    "
   ]
  },
  {
   "cell_type": "code",
   "execution_count": null,
   "id": "34f45d35-15c9-4fd9-8cbf-34873ece5cba",
   "metadata": {},
   "outputs": [],
   "source": [
    "driver = webdriver.Chrome()\n",
    "driver.get(links[0])\n",
    "x_button = driver.find_element(By.CLASS_NAME, 'modals-header').find_elements(By.TAG_NAME, 'button')\n",
    "categoria_button = driver.find_element(By.CLASS_NAME, 'js_select_category').find_elements(By.TAG_NAME, 'option')\n",
    "categoria_button[1].text\n"
   ]
  },
  {
   "cell_type": "code",
   "execution_count": null,
   "id": "52540c91-f9e6-4a60-8a53-adade9254e5c",
   "metadata": {},
   "outputs": [],
   "source": [
    "driver = webdriver.Chrome()\n",
    "driver.get(links[0])\n",
    "\n",
    "memories = driver.find_element(By.CLASS_NAME, 'memory').find_elements(By.TAG_NAME, 'span')\n",
    "#memories = driver.find_element(By.CLASS_NAME, 'memory').find_element(By.CLASS_NAME, 'js_items_memory').find_elements(By.TAG_NAME, 'span')\n",
    "print(memories[0].text)\n",
    "\n",
    "#for memory in memories:\n",
    "#    memory = WebDriverWait(driver, 10).until(EC.element_to_be_clickable((By.CLASS_NAME, 'js_items_memory')))\n",
    "#    memory.click()\n",
    "#    print(memory.text)\n",
    "\n",
    "#Si existe algun error problablemente sea porque \"no se ve\" dentro de la página abierta, este es un problema de tamño de pantalla\n",
    "#esto ocurre por el diseño responsive de la página, se soluciona agrandando la página a pantalla completa o lo necesario.\n",
    "\n",
    "# Crear una instancia de ActionChains\n",
    "action = ActionChains(driver)\n",
    "view_button = driver.find_element(By.CLASS_NAME, 'view-btn-desktop')\n",
    "# Realizar acción de desplazamiento usando move_to_element\n",
    "action.move_to_element(view_button ).perform()\n",
    "\n",
    "categoria_button = driver.find_element(By.CLASS_NAME, 'js_select_category')\n",
    "#driver.execute_script(\"arguments[0].scrollIntoView(true);\", categoria_button)\n",
    "categoria_button.click()\n",
    "categoria_button = driver.find_element(By.CLASS_NAME, 'js_select_category').find_elements(By.TAG_NAME, 'option')\n",
    "categoria_button[1].click() #Elige renovación\n",
    "close_button = driver.find_element(By.CLASS_NAME, 'modal-renovacion-validar__close')\n",
    "close_button.click()\n",
    "\n",
    "fee_button = driver.find_element(By.CLASS_NAME, 'js_select_fee')\n",
    "fee_button.click()\n",
    "fee_button = driver.find_element(By.CLASS_NAME, 'js_select_fee').find_elements(By.TAG_NAME, 'option')\n",
    "fee_button[0].click() #Elige Al Contado\n",
    "\n",
    "plan_button = WebDriverWait(driver, 10).until(EC.element_to_be_clickable((By.CLASS_NAME, 'js_select_plan')))\n",
    "plan_button.click()\n",
    "plan_button = driver.find_element(By.CLASS_NAME, 'js_select_plan').find_elements(By.TAG_NAME, 'option')\n",
    "\n",
    "# Hay cre crear una lista y guardar en esa lista cada diccionario dict\n",
    "for plan in plan_button:\n",
    "    nombre_plan = plan.text\n",
    "    print(nombre_plan)\n",
    "    plan = WebDriverWait(driver, 10).until(EC.element_to_be_clickable((By.CLASS_NAME, 'js_select_plan')))\n",
    "    plan.click() #Elige plan\n",
    "    #print(plan.text)\n",
    "    price = driver.find_element(By.CLASS_NAME, 'js_price_cash')\n",
    "    print(price.text)\n",
    "    dict[nombre_plan] = price.text \n",
    "\n"
   ]
  },
  {
   "cell_type": "code",
   "execution_count": null,
   "id": "d309a75d-3584-43e0-8bae-44eb31bb1f23",
   "metadata": {},
   "outputs": [],
   "source": [
    "print(dict)"
   ]
  },
  {
   "cell_type": "code",
   "execution_count": null,
   "id": "32230bc0-042c-4e31-b380-555c5f380931",
   "metadata": {},
   "outputs": [],
   "source": [
    "# Iterar sobre las listas 'links' y 'names' al mismo tiempo utilizando zip()\n",
    "for link, name in zip(links, names, memories, modalities, planes, prices):\n",
    "    # Crear un diccionario para cada equipo con las llaves 'link' y 'equipo'\n",
    "    equipo_data = {\n",
    "        'link': link,\n",
    "        'equipo': name,\n",
    "        'memoria': memory,\n",
    "        'modalidad': modality,\n",
    "        'plan': plan,\n",
    "        'precio': precio\n",
    "    }\n",
    "\n",
    "    # Agregar el diccionario a la lista 'datos'\n",
    "    datos.append(equipo_data)"
   ]
  },
  {
   "cell_type": "code",
   "execution_count": null,
   "id": "3bbadadb-671e-4481-80c7-dd285929fd90",
   "metadata": {},
   "outputs": [],
   "source": [
    "# Iterar sobre las listas 'links' y 'names' al mismo tiempo utilizando zip()\n",
    "for link, name, modality in zip(links, names, modalities):\n",
    "    # Crear un diccionario para cada equipo con las llaves 'link' y 'equipo'\n",
    "    equipo_data = {\n",
    "        'link': link,\n",
    "        'equipo': name,\n",
    "        'modalidad': modality\n",
    "    }\n",
    "\n",
    "    # Agregar el diccionario a la lista 'datos'\n",
    "    datos.append(equipo_data)\n",
    "print(len(datos))\n",
    "print(datos)\n",
    "#datos.clear()"
   ]
  },
  {
   "cell_type": "code",
   "execution_count": null,
   "id": "0713b8d3-3df6-4dd8-8a1b-21aa91b258a9",
   "metadata": {},
   "outputs": [],
   "source": [
    "# Crear un DataFrame a partir de los datos\n",
    "df = pd.DataFrame(datos)\n",
    "\n",
    "# Opcional: Si quieres cambiar el orden de las columnas en el DataFrame\n",
    "#column_order = ['equipo', 'link', 'modalidad']\n",
    "#df = df[column_order]\n",
    "\n",
    "df.columns = ['link', 'equipo', 'modalidad']\n",
    "\n",
    "# Guardar el DataFrame en un archivo Excel\n",
    "nombre_archivo_excel = 'datos_productos.xlsx'\n",
    "df.to_excel(nombre_archivo_excel)\n",
    "\n",
    "print(f\"DataFrame guardado en el archivo '{nombre_archivo_excel}'.\")\n"
   ]
  },
  {
   "cell_type": "code",
   "execution_count": null,
   "id": "0a71f602-23f1-4a14-961b-3b29ec6701ae",
   "metadata": {},
   "outputs": [],
   "source": []
  }
 ],
 "metadata": {
  "kernelspec": {
   "display_name": "Python 3 (ipykernel)",
   "language": "python",
   "name": "python3"
  },
  "language_info": {
   "codemirror_mode": {
    "name": "ipython",
    "version": 3
   },
   "file_extension": ".py",
   "mimetype": "text/x-python",
   "name": "python",
   "nbconvert_exporter": "python",
   "pygments_lexer": "ipython3",
   "version": "3.11.4"
  }
 },
 "nbformat": 4,
 "nbformat_minor": 5
}
