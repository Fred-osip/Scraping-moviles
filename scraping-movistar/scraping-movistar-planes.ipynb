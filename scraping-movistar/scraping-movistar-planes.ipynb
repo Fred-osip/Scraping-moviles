{
 "cells": [
  {
   "cell_type": "code",
   "execution_count": 1,
   "id": "ac0ca457-e42c-4e4f-83d7-708fba85a323",
   "metadata": {},
   "outputs": [],
   "source": [
    "from selenium import webdriver\n",
    "from selenium.webdriver.common.by import By\n",
    "from selenium.webdriver.support.ui import WebDriverWait\n",
    "from selenium.webdriver.support import expected_conditions as EC\n",
    "from selenium.webdriver.common.action_chains import ActionChains\n",
    "import pandas as pd"
   ]
  },
  {
   "cell_type": "code",
   "execution_count": 2,
   "id": "56bdfdfc-cbcc-4500-83b2-ef45fbb2efe5",
   "metadata": {},
   "outputs": [],
   "source": [
    "url = \"https://catalogo.movistar.com.pe/\"\n",
    "datos = []\n",
    "dict = {}"
   ]
  },
  {
   "cell_type": "code",
   "execution_count": 3,
   "id": "62c61549-4abf-4c78-8252-a3e7fa74c032",
   "metadata": {},
   "outputs": [],
   "source": [
    "driver = webdriver.Chrome()\n",
    "driver.get(url)"
   ]
  },
  {
   "cell_type": "code",
   "execution_count": 4,
   "id": "a15af1df-a68f-45b4-9960-047bbcd06d95",
   "metadata": {},
   "outputs": [
    {
     "name": "stdout",
     "output_type": "stream",
     "text": [
      "Equipos encontrados -> 106\n"
     ]
    }
   ],
   "source": [
    "equipos = driver.find_element(By.ID, 'tab-portabilidad').find_element(By.CLASS_NAME, 'list-portabilidad').find_elements(By.TAG_NAME, 'li')\n",
    "print(\"Equipos encontrados ->\", len(equipos))\n",
    "#equipos = list(set(equipos)) # elimina miembros duplicados\n",
    "links = [link.find_element(By.TAG_NAME, 'a').get_attribute('href') for link in equipos]\n",
    "\n",
    "#for link in links:\n",
    " #   print(link)\n",
    "driver.close()"
   ]
  },
  {
   "cell_type": "code",
   "execution_count": 5,
   "id": "ebe4f8f5-f208-4661-b112-a154b9ec23b0",
   "metadata": {},
   "outputs": [],
   "source": [
    "# Crear una lista que representará la tabla\n",
    "tabla = []\n",
    "\n",
    "# Agregar el encabezado de la tabla como el primer elemento de la lista\n",
    "encabezado = ['marca', 'modelo', 'memoria', 'enlace', 'modalidad', 'planes', 'precio']\n",
    "tabla.append(encabezado)"
   ]
  },
  {
   "cell_type": "code",
   "execution_count": 9,
   "id": "c575cca8-3175-4360-a689-86fcc61a0f64",
   "metadata": {},
   "outputs": [],
   "source": [
    "def category():\n",
    "    categorias = driver.find_element(By.CLASS_NAME, 'js_select_category')\n",
    "    categorias.click()\n",
    "    categorias = driver.find_element(By.CLASS_NAME, 'js_select_category').find_elements(By.TAG_NAME, 'option')\n",
    "    for categoria in categorias:\n",
    "        modalidad = categoria.text\n",
    "        print(modalidad)\n",
    "        categoria.click()\n",
    "        \n",
    "        if(categoria.text == 'Renovación'):\n",
    "            close_button = driver.find_element(By.CLASS_NAME, 'modal-renovacion-validar__close')\n",
    "            close_button.click()\n",
    "            \n",
    "        al_contado()\n",
    "        \n",
    "        plan_button = WebDriverWait(driver, 10).until(EC.element_to_be_clickable((By.CLASS_NAME, 'js_select_plan')))\n",
    "        plan_button.click()\n",
    "        plan_button = driver.find_element(By.CLASS_NAME, 'js_select_plan').find_elements(By.TAG_NAME, 'option')\n",
    "        \n",
    "        # Hay que crear una lista y guardar en esa lista cada diccionario dict\n",
    "        for plan in plan_button:\n",
    "            nombre_plan = plan.text\n",
    "            print(nombre_plan)\n",
    "            plan = WebDriverWait(driver, 10).until(EC.element_to_be_clickable((By.CLASS_NAME, 'js_select_plan')))\n",
    "            plan.click() #Elige plan\n",
    "            #print(plan.text)\n",
    "            price = driver.find_element(By.CLASS_NAME, 'js_price_cash')       \n",
    "            precio = price.text\n",
    "            print(precio)\n",
    "            fila = [marca, modelo, memoria, enlace, modalidad, nombre_plan, precio]\n",
    "            tabla.append(fila)\n",
    "        \n",
    "        "
   ]
  },
  {
   "cell_type": "code",
   "execution_count": 8,
   "id": "3434911c-b746-440d-bf1a-6e72c39536cb",
   "metadata": {},
   "outputs": [],
   "source": [
    "def scroll():\n",
    "    # Crear una instancia de ActionChains\n",
    "    action = ActionChains(driver)\n",
    "    view_button = driver.find_element(By.CLASS_NAME, 'view-btn-desktop')\n",
    "    # Realizar acción de desplazamiento usando move_to_element\n",
    "    action.move_to_element(view_button ).perform()"
   ]
  },
  {
   "cell_type": "code",
   "execution_count": 6,
   "id": "1f601a63-736d-4f9f-a89a-e23fcd7f4f00",
   "metadata": {},
   "outputs": [],
   "source": [
    "def al_contado():\n",
    "    fee_button = driver.find_element(By.CLASS_NAME, 'js_select_fee')\n",
    "    fee_button.click()\n",
    "    fee_button = driver.find_element(By.CLASS_NAME, 'js_select_fee').find_elements(By.TAG_NAME, 'option')\n",
    "    fee_button[0].click() #Elige Al Contado"
   ]
  },
  {
   "cell_type": "code",
   "execution_count": 7,
   "id": "fd64fa9b-1e9f-43b4-9b48-095ebf6481db",
   "metadata": {},
   "outputs": [],
   "source": [
    "def agregar_fila():\n",
    "    fila = [marca, modelo, memoria, enlace, modalidad, nombre_plan, precio]\n",
    "    tabla.append(fila)"
   ]
  },
  {
   "cell_type": "code",
   "execution_count": 10,
   "id": "4010f7f8-2641-4aa0-8fdb-769d97cb43d0",
   "metadata": {},
   "outputs": [],
   "source": [
    "def planes():\n",
    "    plan_button = WebDriverWait(driver, 10).until(EC.element_to_be_clickable((By.CLASS_NAME, 'js_select_plan')))\n",
    "    plan_button.click()\n",
    "    plan_button = driver.find_element(By.CLASS_NAME, 'js_select_plan').find_elements(By.TAG_NAME, 'option')\n",
    "    \n",
    "    # Hay que crear una lista y guardar en esa lista cada diccionario dict\n",
    "    for plan in plan_button:\n",
    "        nombre_plan = plan.text\n",
    "        print(nombre_plan)\n",
    "        plan = WebDriverWait(driver, 10).until(EC.element_to_be_clickable((By.CLASS_NAME, 'js_select_plan')))\n",
    "        plan.click() #Elige plan\n",
    "        #print(plan.text)\n",
    "        price = driver.find_element(By.CLASS_NAME, 'js_price_cash')       \n",
    "        precio = price.text\n",
    "        print(precio)\n",
    "        fila = [marca, modelo, memoria, enlace, modalidad, nombre_plan, precio]\n",
    "        tabla.append(fila)"
   ]
  },
  {
   "cell_type": "code",
   "execution_count": 11,
   "id": "23018524-d19f-4fdf-8133-6ae1aa68fa73",
   "metadata": {},
   "outputs": [],
   "source": [
    "links_prueba = links[:5]\n",
    "#print(links_prueba)\n",
    "\n",
    "#for link in links_prueba:\n",
    "#    run(link)\n",
    "#print(tabla)"
   ]
  },
  {
   "cell_type": "code",
   "execution_count": null,
   "id": "1c18bb44-b012-4594-a372-0d7071fc2078",
   "metadata": {},
   "outputs": [],
   "source": [
    "for link in links_prueba:\n",
    "    driver = webdriver.Chrome()\n",
    "    driver.get(link) #28\n",
    "    enlace = link # revisar 10 ElementNotInteractableException , 0\n",
    "    print(enlace)\n",
    "    \n",
    "    #x_button = driver.find_element(By.CLASS_NAME, 'modals-header').find_elements(By.TAG_NAME, 'button')\n",
    "    marca = driver.find_element(By.CLASS_NAME, 'title-device').get_attribute(\"data-marca\")\n",
    "    print(marca)\n",
    "    \n",
    "    modelo = driver.find_element(By.CLASS_NAME, 'inner').find_element(By.TAG_NAME, 'h1').text\n",
    "    print(modelo)\n",
    "    \n",
    "    #memories = driver.find_element(By.CLASS_NAME, 'memory').find_elements(By.TAG_NAME, 'span')\n",
    "    \n",
    "    #memories = WebDriverWait(driver, 10).until(EC.element_to_be_clickable((By.CLASS_NAME, 'memory')))\n",
    "    #memories.click()\n",
    "    memories = driver.find_element(By.CLASS_NAME, 'memory').find_elements(By.TAG_NAME, 'span')\n",
    "    #print(len(memories))\n",
    "    if(len(memories) > 1 ):\n",
    "        memories[-1].click() # ayuda a limpiar la sobreposicion de elementos\n",
    "        for memoria in memories: \n",
    "            print(memoria.text)\n",
    "            try:\n",
    "                memoria.click()\n",
    "                memoria = memoria.text\n",
    "                scroll()\n",
    "                category()\n",
    "            except Exception as err:\n",
    "                #print(err)\n",
    "                print(\"El equipo no está disponible.\")\n",
    "    \n",
    "    else:\n",
    "        memoria = memories[0].text\n",
    "        print(memoria)\n",
    "        scroll()\n",
    "        category()\n",
    "    \n",
    "    driver.quit()"
   ]
  },
  {
   "cell_type": "code",
   "execution_count": null,
   "id": "07af1d16-fdd6-4479-87c2-fa27b78220b4",
   "metadata": {},
   "outputs": [],
   "source": [
    "def run(link):\n",
    "    driver = webdriver.Chrome()\n",
    "    driver.get(link) #28\n",
    "    enlace = link # revisar 10 ElementNotInteractableException , 0\n",
    "    print(enlace)\n",
    "    \n",
    "    #x_button = driver.find_element(By.CLASS_NAME, 'modals-header').find_elements(By.TAG_NAME, 'button')\n",
    "    marca = driver.find_element(By.CLASS_NAME, 'title-device').get_attribute(\"data-marca\")\n",
    "    print(marca)\n",
    "    \n",
    "    modelo = driver.find_element(By.CLASS_NAME, 'inner').find_element(By.TAG_NAME, 'h1').text\n",
    "    print(modelo)\n",
    "    \n",
    "    #memories = driver.find_element(By.CLASS_NAME, 'memory').find_elements(By.TAG_NAME, 'span')\n",
    "    \n",
    "    #memories = WebDriverWait(driver, 10).until(EC.element_to_be_clickable((By.CLASS_NAME, 'memory')))\n",
    "    #memories.click()\n",
    "    memories = driver.find_element(By.CLASS_NAME, 'memory').find_elements(By.TAG_NAME, 'span')\n",
    "    #print(len(memories))\n",
    "    if(len(memories) > 1 ):\n",
    "        memories[-1].click() # ayuda a limpiar la sobreposicion de elementos\n",
    "        for memoria in memories: \n",
    "            print(memoria.text)\n",
    "            try:\n",
    "                memoria.click()\n",
    "                memoria = memoria.text\n",
    "                scroll()\n",
    "                category()\n",
    "            except Exception as err:\n",
    "                #print(err)\n",
    "                print(\"El equipo no está disponible.\")\n",
    "    \n",
    "    else:\n",
    "        memoria = memories[0].text\n",
    "        print(memoria)\n",
    "        scroll()\n",
    "        category()\n",
    "    \n",
    "    driver.quit()\n"
   ]
  },
  {
   "cell_type": "code",
   "execution_count": null,
   "id": "bc6d5800-45d6-4e7b-8ebf-35e23c26ed06",
   "metadata": {},
   "outputs": [],
   "source": [
    "df = pd.DataFrame(tabla)\n",
    "\n",
    "nombre_archivo_excel = 'movistar-planes.xlsx'\n",
    "df.to_excel(nombre_archivo_excel)\n",
    "\n",
    "print(f\"DataFrame guardado en el archivo '{nombre_archivo_excel}'.\")"
   ]
  },
  {
   "cell_type": "code",
   "execution_count": null,
   "id": "c3c41482-e41b-4985-9df7-7964298fe922",
   "metadata": {},
   "outputs": [],
   "source": []
  }
 ],
 "metadata": {
  "kernelspec": {
   "display_name": "Python 3 (ipykernel)",
   "language": "python",
   "name": "python3"
  },
  "language_info": {
   "codemirror_mode": {
    "name": "ipython",
    "version": 3
   },
   "file_extension": ".py",
   "mimetype": "text/x-python",
   "name": "python",
   "nbconvert_exporter": "python",
   "pygments_lexer": "ipython3",
   "version": "3.11.4"
  }
 },
 "nbformat": 4,
 "nbformat_minor": 5
}
