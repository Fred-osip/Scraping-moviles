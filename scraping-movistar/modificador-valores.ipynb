{
 "cells": [
  {
   "cell_type": "code",
   "execution_count": 6,
   "id": "644325f7-0dc6-45d3-b45a-bad8bf8b904b",
   "metadata": {},
   "outputs": [
    {
     "name": "stdout",
     "output_type": "stream",
     "text": [
      "DataFrame guardado en el archivo 'nuevo_archivo.xlsx'.\n"
     ]
    }
   ],
   "source": [
    "import pandas as pd\n",
    "\n",
    "# Leer el archivo Excel\n",
    "df = pd.read_excel('test.xlsx')\n",
    "\n",
    "# Reemplazar los valores en la columna \"modalidad\"\n",
    "df['modalidad'] = df['modalidad'].map({'Renovación': 1, 'Portabilidad': 2})\n",
    "\n",
    "# Reemplazar los valores en la columna \"planes\"\n",
    "df['planes'] = df['planes'].map({'Plan Mi Movistar S/29.90': 10, 'Plan Mi Movistar S/35.90': 20, 'Plan Mi Movistar S/39.90': 30, 'Plan Mi Movistar S/45.90': 40, 'Plan Mi Movistar S/49.9': 50, 'Plan Mi Movistar S/55.90': 60, 'Plan Mi Movistar S/59.9': 70, 'Plan Mi Movistar S/65.90': 80, 'Plan Ilimitado Mi Movistar S/69.90': 90, 'Plan Ilimitado Mi Movistar S/74.90': 100, 'Plan Ilimitado Mi Movistar S/79.9': 110, 'Plan Ilimitado Mi Movistar S/85.90': 120, 'Plan Ilimitado Mi Movistar S/99.90': 130, 'Plan Ilimitado Mi Movistar S/114.90': 140})\n",
    "\n",
    "# Guardar el resultado en un nuevo archivo Excel\n",
    "df.to_excel('nuevo_archivo.xlsx', index=False)\n",
    "\n",
    "print(\"DataFrame guardado en el archivo 'nuevo_archivo.xlsx'.\")"
   ]
  },
  {
   "cell_type": "code",
   "execution_count": null,
   "id": "51520010-a432-4dff-b99b-126445c35438",
   "metadata": {},
   "outputs": [],
   "source": []
  }
 ],
 "metadata": {
  "kernelspec": {
   "display_name": "Python 3 (ipykernel)",
   "language": "python",
   "name": "python3"
  },
  "language_info": {
   "codemirror_mode": {
    "name": "ipython",
    "version": 3
   },
   "file_extension": ".py",
   "mimetype": "text/x-python",
   "name": "python",
   "nbconvert_exporter": "python",
   "pygments_lexer": "ipython3",
   "version": "3.11.4"
  }
 },
 "nbformat": 4,
 "nbformat_minor": 5
}
