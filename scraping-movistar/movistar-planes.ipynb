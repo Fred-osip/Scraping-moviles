{
 "cells": [
  {
   "cell_type": "code",
   "execution_count": null,
   "id": "0ffef9b6-cee1-4ed3-887b-75e4d9e7a349",
   "metadata": {},
   "outputs": [],
   "source": [
    "from selenium import webdriver\n",
    "from selenium.webdriver.common.by import By\n",
    "from selenium.webdriver.support.ui import WebDriverWait\n",
    "from selenium.webdriver.support import expected_conditions as EC\n",
    "from selenium.webdriver.common.action_chains import ActionChains\n",
    "import pandas as pd"
   ]
  },
  {
   "cell_type": "code",
   "execution_count": null,
   "id": "684b2483-b38d-4981-bdd4-6bf620086d1b",
   "metadata": {},
   "outputs": [],
   "source": [
    "url = \"https://catalogo.movistar.com.pe/\"\n",
    "datos = []\n",
    "dict = {}"
   ]
  },
  {
   "cell_type": "code",
   "execution_count": null,
   "id": "edc524d2-fde7-4156-87e9-7f21786a6f51",
   "metadata": {},
   "outputs": [],
   "source": [
    "driver = webdriver.Chrome()\n",
    "driver.get(url)"
   ]
  },
  {
   "cell_type": "code",
   "execution_count": null,
   "id": "7c36a91f-9af8-42bf-a730-c40164f92f07",
   "metadata": {},
   "outputs": [],
   "source": [
    "equipos = driver.find_element(By.ID, 'tab-portabilidad').find_element(By.CLASS_NAME, 'list-portabilidad').find_elements(By.TAG_NAME, 'li')\n",
    "print(\"Equipos encontrados ->\", len(equipos))\n",
    "#equipos = list(set(equipos)) # elimina miembros duplicados\n",
    "links = [link.find_element(By.TAG_NAME, 'a').get_attribute('href') for link in equipos]\n",
    "\n",
    "#for link in links:\n",
    " #   print(link)\n",
    "driver.close()"
   ]
  },
  {
   "cell_type": "code",
   "execution_count": null,
   "id": "e8d65b30-52a9-4374-a5dd-957387043621",
   "metadata": {},
   "outputs": [],
   "source": [
    "# Crear una lista que representará la tabla\n",
    "tabla = []\n",
    "\n",
    "# Agregar el encabezado de la tabla como el primer elemento de la lista\n",
    "encabezado = ['marca', 'modelo', 'memoria', 'enlace', 'modalidad', 'planes', 'precio']\n",
    "tabla.append(encabezado)"
   ]
  },
  {
   "cell_type": "code",
   "execution_count": null,
   "id": "430f7b63-aabb-473b-90c3-bcab150afd62",
   "metadata": {},
   "outputs": [],
   "source": [
    "def category():\n",
    "    categorias = driver.find_element(By.CLASS_NAME, 'js_select_category')\n",
    "    categorias.click()\n",
    "    categorias = driver.find_element(By.CLASS_NAME, 'js_select_category').find_elements(By.TAG_NAME, 'option')\n",
    "    for categoria in categorias:\n",
    "        modalidad = categoria.text\n",
    "        print(modalidad)\n",
    "        categoria.click()\n",
    "        \n",
    "        if(categoria.text == 'Renovación'):\n",
    "            close_button = driver.find_element(By.CLASS_NAME, 'modal-renovacion-validar__close')\n",
    "            close_button.click()\n",
    "            \n",
    "        al_contado()\n",
    "        \n",
    "        plan_button = WebDriverWait(driver, 10).until(EC.element_to_be_clickable((By.CLASS_NAME, 'js_select_plan')))\n",
    "        plan_button.click()\n",
    "        plan_button = driver.find_element(By.CLASS_NAME, 'js_select_plan').find_elements(By.TAG_NAME, 'option')\n",
    "        \n",
    "        # Hay que crear una lista y guardar en esa lista cada diccionario dict\n",
    "        for plan in plan_button:\n",
    "            nombre_plan = plan.text\n",
    "            print(nombre_plan)\n",
    "            plan = WebDriverWait(driver, 10).until(EC.element_to_be_clickable((By.CLASS_NAME, 'js_select_plan')))\n",
    "            plan.click() #Elige plan\n",
    "            #print(plan.text)\n",
    "            price = driver.find_element(By.CLASS_NAME, 'js_price_cash')       \n",
    "            precio = price.text\n",
    "            print(precio)\n",
    "            fila = [marca, modelo, memoria, enlace, modalidad, nombre_plan, precio]\n",
    "            tabla.append(fila)\n",
    "        \n",
    "        \n",
    "        "
   ]
  },
  {
   "cell_type": "code",
   "execution_count": null,
   "id": "6dc3b801-f883-4321-8fec-abbd38645d2e",
   "metadata": {},
   "outputs": [],
   "source": [
    "def scroll():\n",
    "    # Crear una instancia de ActionChains\n",
    "    action = ActionChains(driver)\n",
    "    view_button = driver.find_element(By.CLASS_NAME, 'view-btn-desktop')\n",
    "    # Realizar acción de desplazamiento usando move_to_element\n",
    "    action.move_to_element(view_button ).perform()"
   ]
  },
  {
   "cell_type": "code",
   "execution_count": null,
   "id": "b728d324-516e-4b05-8181-786162f42547",
   "metadata": {},
   "outputs": [],
   "source": [
    "def al_contado():\n",
    "    fee_button = driver.find_element(By.CLASS_NAME, 'js_select_fee')\n",
    "    fee_button.click()\n",
    "    fee_button = driver.find_element(By.CLASS_NAME, 'js_select_fee').find_elements(By.TAG_NAME, 'option')\n",
    "    fee_button[0].click() #Elige Al Contado"
   ]
  },
  {
   "cell_type": "code",
   "execution_count": null,
   "id": "86affbb1-d531-4411-97a1-cf034ff3d50a",
   "metadata": {},
   "outputs": [],
   "source": [
    "def agregar_fila():\n",
    "    fila = [marca, modelo, memoria, enlace, modalidad, nombre_plan, precio]\n",
    "    tabla.append(fila)"
   ]
  },
  {
   "cell_type": "code",
   "execution_count": null,
   "id": "1f7b7031-09e9-4e5c-857e-94c6f24218cd",
   "metadata": {},
   "outputs": [],
   "source": [
    "def planes():\n",
    "    plan_button = WebDriverWait(driver, 10).until(EC.element_to_be_clickable((By.CLASS_NAME, 'js_select_plan')))\n",
    "    plan_button.click()\n",
    "    plan_button = driver.find_element(By.CLASS_NAME, 'js_select_plan').find_elements(By.TAG_NAME, 'option')\n",
    "    \n",
    "    # Hay que crear una lista y guardar en esa lista cada diccionario dict\n",
    "    for plan in plan_button:\n",
    "        nombre_plan = plan.text\n",
    "        print(nombre_plan)\n",
    "        plan = WebDriverWait(driver, 10).until(EC.element_to_be_clickable((By.CLASS_NAME, 'js_select_plan')))\n",
    "        plan.click() #Elige plan\n",
    "        #print(plan.text)\n",
    "        price = driver.find_element(By.CLASS_NAME, 'js_price_cash')       \n",
    "        precio = price.text\n",
    "        print(precio)\n",
    "        fila = [marca, modelo, memoria, enlace, modalidad, nombre_plan, precio]\n",
    "        tabla.append(fila)\n",
    "        \n",
    "        "
   ]
  },
  {
   "cell_type": "code",
   "execution_count": null,
   "id": "e3cdf946-6162-4729-b167-ae06fedd3fc6",
   "metadata": {},
   "outputs": [],
   "source": [
    "driver = webdriver.Chrome()\n",
    "driver.get(links[1]) #28\n",
    "enlace = links[1] # revisar 10 ElementNotInteractableException , 0\n",
    "print(enlace)\n",
    "\n",
    "#x_button = driver.find_element(By.CLASS_NAME, 'modals-header').find_elements(By.TAG_NAME, 'button')\n",
    "marca = driver.find_element(By.CLASS_NAME, 'title-device').get_attribute(\"data-marca\")\n",
    "print(marca)\n",
    "\n",
    "modelo = driver.find_element(By.CLASS_NAME, 'inner').find_element(By.TAG_NAME, 'h1').text\n",
    "print(modelo)\n",
    "\n",
    "#memories = driver.find_element(By.CLASS_NAME, 'memory').find_elements(By.TAG_NAME, 'span')\n",
    "\n",
    "#memories = WebDriverWait(driver, 10).until(EC.element_to_be_clickable((By.CLASS_NAME, 'memory')))\n",
    "#memories.click()\n",
    "memories = driver.find_element(By.CLASS_NAME, 'memory').find_elements(By.TAG_NAME, 'span')\n",
    "#print(len(memories))\n",
    "if(len(memories) > 1 ):\n",
    "    memories[-1].click() # ayuda a limpiar la sobreposicion de elementos\n",
    "    for memoria in memories: \n",
    "        print(memoria.text)\n",
    "        try:\n",
    "            memoria.click()\n",
    "            memoria = memoria.text\n",
    "            scroll()\n",
    "            category()\n",
    "        except Exception as err:\n",
    "            #print(err)\n",
    "            print(\"El equipo no está disponible.\")\n",
    "\n",
    "else:\n",
    "    memoria = memories[0].text\n",
    "    print(memoria)\n",
    "    scroll()\n",
    "    category()\n",
    "\n",
    "\n",
    "driver.quit()\n",
    "\n",
    "print(tabla)\n"
   ]
  },
  {
   "cell_type": "code",
   "execution_count": null,
   "id": "71f4b6ed-784e-4909-8166-5dc27bd3291c",
   "metadata": {},
   "outputs": [],
   "source": [
    "df = pd.DataFrame(tabla)\n",
    "\n",
    "nombre_archivo_excel = 'movistar-planes.xlsx'\n",
    "df.to_excel(nombre_archivo_excel)\n",
    "\n",
    "print(f\"DataFrame guardado en el archivo '{nombre_archivo_excel}'.\")"
   ]
  },
  {
   "cell_type": "code",
   "execution_count": null,
   "id": "a1aabf8b-4a1e-4fbb-b77a-e8dc88940d47",
   "metadata": {},
   "outputs": [],
   "source": []
  },
  {
   "cell_type": "code",
   "execution_count": null,
   "id": "a3953931-2b9c-446e-8180-2ef399382c13",
   "metadata": {},
   "outputs": [],
   "source": []
  },
  {
   "cell_type": "code",
   "execution_count": null,
   "id": "5993f2bf-df19-4a64-9975-8789c7885afe",
   "metadata": {},
   "outputs": [],
   "source": []
  }
 ],
 "metadata": {
  "kernelspec": {
   "display_name": "Python 3 (ipykernel)",
   "language": "python",
   "name": "python3"
  },
  "language_info": {
   "codemirror_mode": {
    "name": "ipython",
    "version": 3
   },
   "file_extension": ".py",
   "mimetype": "text/x-python",
   "name": "python",
   "nbconvert_exporter": "python",
   "pygments_lexer": "ipython3",
   "version": "3.11.4"
  }
 },
 "nbformat": 4,
 "nbformat_minor": 5
}
