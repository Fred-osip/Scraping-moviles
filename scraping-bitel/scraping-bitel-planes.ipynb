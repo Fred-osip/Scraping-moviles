{
 "cells": [
  {
   "cell_type": "code",
   "execution_count": 43,
   "metadata": {},
   "outputs": [],
   "source": [
    "from selenium import webdriver\n",
    "from selenium.webdriver.common.by import By\n",
    "from selenium.webdriver.support.ui import WebDriverWait\n",
    "from selenium.webdriver.support import expected_conditions as EC\n",
    "from selenium.webdriver.common.action_chains import ActionChains\n",
    "import pandas as pd\n",
    "\n",
    "\n",
    "url = \"https://bitel.com.pe/equipos\"\n",
    "lista_links = []"
   ]
  },
  {
   "cell_type": "code",
   "execution_count": 44,
   "metadata": {},
   "outputs": [],
   "source": [
    "driver = webdriver.Chrome()\n",
    "driver.get(url)"
   ]
  },
  {
   "cell_type": "code",
   "execution_count": 45,
   "metadata": {},
   "outputs": [],
   "source": [
    "def scroll():\n",
    "    # Crear una instancia de ActionChains\n",
    "    action = ActionChains(driver)\n",
    "    view_button = driver.find_element(By.ID, 'pagination21').find_element(By.CLASS_NAME, 'next')\n",
    "    # Realizar acción de desplazamiento usando move_to_element\n",
    "    action.move_to_element(view_button).perform()"
   ]
  },
  {
   "cell_type": "code",
   "execution_count": 47,
   "metadata": {},
   "outputs": [
    {
     "name": "stdout",
     "output_type": "stream",
     "text": [
      "Equipos encontrados -> 9\n"
     ]
    },
    {
     "ename": "NameError",
     "evalue": "name 'MoveTargetOutOfBoundsException' is not defined",
     "output_type": "error",
     "traceback": [
      "\u001b[1;31m---------------------------------------------------------------------------\u001b[0m",
      "\u001b[1;31mStaleElementReferenceException\u001b[0m            Traceback (most recent call last)",
      "Cell \u001b[1;32mIn[47], line 30\u001b[0m\n\u001b[0;32m     29\u001b[0m     \u001b[39m# Realiza otras acciones aquí, como hacer clic en el elemento\u001b[39;00m\n\u001b[1;32m---> 30\u001b[0m     button_next\u001b[39m.\u001b[39;49mclick()\n\u001b[0;32m     32\u001b[0m \u001b[39mexcept\u001b[39;00m MoveTargetOutOfBoundsException:\n",
      "File \u001b[1;32mc:\\Users\\fhuillca\\AppData\\Local\\Programs\\Python\\Python311\\Lib\\site-packages\\selenium\\webdriver\\remote\\webelement.py:94\u001b[0m, in \u001b[0;36mWebElement.click\u001b[1;34m(self)\u001b[0m\n\u001b[0;32m     93\u001b[0m \u001b[39m\u001b[39m\u001b[39m\"\"\"Clicks the element.\"\"\"\u001b[39;00m\n\u001b[1;32m---> 94\u001b[0m \u001b[39mself\u001b[39;49m\u001b[39m.\u001b[39;49m_execute(Command\u001b[39m.\u001b[39;49mCLICK_ELEMENT)\n",
      "File \u001b[1;32mc:\\Users\\fhuillca\\AppData\\Local\\Programs\\Python\\Python311\\Lib\\site-packages\\selenium\\webdriver\\remote\\webelement.py:395\u001b[0m, in \u001b[0;36mWebElement._execute\u001b[1;34m(self, command, params)\u001b[0m\n\u001b[0;32m    394\u001b[0m params[\u001b[39m\"\u001b[39m\u001b[39mid\u001b[39m\u001b[39m\"\u001b[39m] \u001b[39m=\u001b[39m \u001b[39mself\u001b[39m\u001b[39m.\u001b[39m_id\n\u001b[1;32m--> 395\u001b[0m \u001b[39mreturn\u001b[39;00m \u001b[39mself\u001b[39;49m\u001b[39m.\u001b[39;49m_parent\u001b[39m.\u001b[39;49mexecute(command, params)\n",
      "File \u001b[1;32mc:\\Users\\fhuillca\\AppData\\Local\\Programs\\Python\\Python311\\Lib\\site-packages\\selenium\\webdriver\\remote\\webdriver.py:346\u001b[0m, in \u001b[0;36mWebDriver.execute\u001b[1;34m(self, driver_command, params)\u001b[0m\n\u001b[0;32m    345\u001b[0m \u001b[39mif\u001b[39;00m response:\n\u001b[1;32m--> 346\u001b[0m     \u001b[39mself\u001b[39;49m\u001b[39m.\u001b[39;49merror_handler\u001b[39m.\u001b[39;49mcheck_response(response)\n\u001b[0;32m    347\u001b[0m     response[\u001b[39m\"\u001b[39m\u001b[39mvalue\u001b[39m\u001b[39m\"\u001b[39m] \u001b[39m=\u001b[39m \u001b[39mself\u001b[39m\u001b[39m.\u001b[39m_unwrap_value(response\u001b[39m.\u001b[39mget(\u001b[39m\"\u001b[39m\u001b[39mvalue\u001b[39m\u001b[39m\"\u001b[39m, \u001b[39mNone\u001b[39;00m))\n",
      "File \u001b[1;32mc:\\Users\\fhuillca\\AppData\\Local\\Programs\\Python\\Python311\\Lib\\site-packages\\selenium\\webdriver\\remote\\errorhandler.py:245\u001b[0m, in \u001b[0;36mErrorHandler.check_response\u001b[1;34m(self, response)\u001b[0m\n\u001b[0;32m    244\u001b[0m     \u001b[39mraise\u001b[39;00m exception_class(message, screen, stacktrace, alert_text)  \u001b[39m# type: ignore[call-arg]  # mypy is not smart enough here\u001b[39;00m\n\u001b[1;32m--> 245\u001b[0m \u001b[39mraise\u001b[39;00m exception_class(message, screen, stacktrace)\n",
      "\u001b[1;31mStaleElementReferenceException\u001b[0m: Message: stale element reference: stale element not found\n  (Session info: chrome=115.0.5790.171); For documentation on this error, please visit: https://www.selenium.dev/documentation/webdriver/troubleshooting/errors#stale-element-reference-exception\nStacktrace:\nBacktrace:\n\tGetHandleVerifier [0x0117A813+48355]\n\t(No symbol) [0x0110C4B1]\n\t(No symbol) [0x01015358]\n\t(No symbol) [0x010187A1]\n\t(No symbol) [0x010199E1]\n\t(No symbol) [0x01019A80]\n\t(No symbol) [0x01041D29]\n\t(No symbol) [0x01039DAD]\n\t(No symbol) [0x0105A73C]\n\t(No symbol) [0x01039A36]\n\t(No symbol) [0x0105AA94]\n\t(No symbol) [0x0106C922]\n\t(No symbol) [0x0105A536]\n\t(No symbol) [0x010382DC]\n\t(No symbol) [0x010393DD]\n\tGetHandleVerifier [0x013DAABD+2539405]\n\tGetHandleVerifier [0x0141A78F+2800735]\n\tGetHandleVerifier [0x0141456C+2775612]\n\tGetHandleVerifier [0x012051E0+616112]\n\t(No symbol) [0x01115F8C]\n\t(No symbol) [0x01112328]\n\t(No symbol) [0x0111240B]\n\t(No symbol) [0x01104FF7]\n\tBaseThreadInitThunk [0x75BF00C9+25]\n\tRtlGetAppContainerNamedObjectPath [0x779A7B1E+286]\n\tRtlGetAppContainerNamedObjectPath [0x779A7AEE+238]\n",
      "\nDuring handling of the above exception, another exception occurred:\n",
      "\u001b[1;31mNameError\u001b[0m                                 Traceback (most recent call last)",
      "Cell \u001b[1;32mIn[47], line 32\u001b[0m\n\u001b[0;32m     29\u001b[0m     \u001b[39m# Realiza otras acciones aquí, como hacer clic en el elemento\u001b[39;00m\n\u001b[0;32m     30\u001b[0m     button_next\u001b[39m.\u001b[39mclick()\n\u001b[1;32m---> 32\u001b[0m \u001b[39mexcept\u001b[39;00m MoveTargetOutOfBoundsException:\n\u001b[0;32m     33\u001b[0m     \u001b[39mprint\u001b[39m(\u001b[39m\"\u001b[39m\u001b[39mError: Movimiento del mouse fuera de los límites del elemento\u001b[39m\u001b[39m\"\u001b[39m)\n\u001b[0;32m     34\u001b[0m \u001b[39mfinally\u001b[39;00m:\n",
      "\u001b[1;31mNameError\u001b[0m: name 'MoveTargetOutOfBoundsException' is not defined"
     ]
    }
   ],
   "source": [
    "for i in range(1, 4):\n",
    "    lista_items = WebDriverWait(driver, 30).until(EC.presence_of_element_located((By.ID, 'list-product21')))\n",
    "    lista_items = lista_items.find_element(By.CLASS_NAME, 'row-layout').find_elements(By.CLASS_NAME, 'items')\n",
    "    print(\"Equipos encontrados ->\", len(lista_items))\n",
    "    #equipos = list(set(equipos)) # elimina miembros duplicados\n",
    "    links = [link.find_element(By.TAG_NAME, 'a').get_attribute('href') for link in lista_items]\n",
    "\n",
    "    #scroll()\n",
    "    box_next_page = driver.find_element(By.ID, 'pagination21')\n",
    "    button_next = box_next_page.find_element(By.CLASS_NAME, 'next')\n",
    "    button_next = WebDriverWait(driver, 20).until(EC.presence_of_element_located((By.CLASS_NAME, 'next')))\n",
    "    scroll()\n",
    "    button_next.click()\n",
    "\n",
    "    try:\n",
    "        box_next_page = driver.find_element(By.ID, 'pagination21')\n",
    "        button_next = box_next_page.find_element(By.CLASS_NAME, 'next')\n",
    "        button_next = WebDriverWait(driver, 20).until(EC.presence_of_element_located((By.CLASS_NAME, 'next')))\n",
    "        \n",
    "        # Asegúrate de que el elemento esté visible y desplázalo a la vista si es necesario\n",
    "        if not button_next.is_displayed():\n",
    "            scroll()\n",
    "        \n",
    "        # Realiza la acción de movimiento del mouse\n",
    "        actions = ActionChains(driver)\n",
    "        actions.move_to_element(button_next)\n",
    "        actions.perform()\n",
    "\n",
    "        # Realiza otras acciones aquí, como hacer clic en el elemento\n",
    "        button_next.click()\n",
    "\n",
    "    except MoveTargetOutOfBoundsException:\n",
    "        print(\"Error: Movimiento del mouse fuera de los límites del elemento\")\n",
    "    finally:\n",
    "        lista_links += links \n",
    "        links = []\n",
    "        lista_items = []\n",
    "\n",
    "\n",
    "for link in lista_links:\n",
    "   print(link)\n",
    "driver.close()"
   ]
  }
 ],
 "metadata": {
  "kernelspec": {
   "display_name": "Python 3",
   "language": "python",
   "name": "python3"
  },
  "language_info": {
   "codemirror_mode": {
    "name": "ipython",
    "version": 3
   },
   "file_extension": ".py",
   "mimetype": "text/x-python",
   "name": "python",
   "nbconvert_exporter": "python",
   "pygments_lexer": "ipython3",
   "version": "3.11.4"
  },
  "orig_nbformat": 4
 },
 "nbformat": 4,
 "nbformat_minor": 2
}
