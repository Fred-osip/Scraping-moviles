{
 "cells": [
  {
   "cell_type": "code",
   "execution_count": 99,
   "id": "384632b1-6f38-4851-8ce0-89ad37ad38ff",
   "metadata": {},
   "outputs": [],
   "source": [
    "from selenium import webdriver\n",
    "from selenium.webdriver.common.by import By\n",
    "from selenium.webdriver.support.ui import WebDriverWait\n",
    "from selenium.webdriver.support import expected_conditions as EC\n",
    "from selenium.webdriver.common.action_chains import ActionChains\n",
    "from selenium.webdriver.common.keys import Keys\n",
    "import pandas as pd"
   ]
  },
  {
   "cell_type": "code",
   "execution_count": 100,
   "id": "780a0086-4445-4540-98e1-9b6a8df53fa3",
   "metadata": {},
   "outputs": [],
   "source": [
    "url = \"https://miportal.entel.pe/personas/catalogo/postpago/migra\"\n",
    "datos = []\n",
    "equipos = []\n",
    "links_total = []\n",
    "links_disponible_total = []\n",
    "dict = {}"
   ]
  },
  {
   "cell_type": "code",
   "execution_count": 101,
   "id": "2fd19861-7b52-4488-9772-9477a999c7ca",
   "metadata": {},
   "outputs": [],
   "source": [
    "driver = webdriver.Chrome()"
   ]
  },
  {
   "cell_type": "code",
   "execution_count": 102,
   "id": "a6397049-859b-41c1-beac-71ec26986be7",
   "metadata": {},
   "outputs": [],
   "source": [
    "driver.get(url)"
   ]
  },
  {
   "cell_type": "code",
   "execution_count": 28,
   "id": "b5ff4664",
   "metadata": {},
   "outputs": [],
   "source": [
    "def publicidad():\n",
    "    entel-modal-inactive__close"
   ]
  },
  {
   "cell_type": "code",
   "execution_count": 103,
   "id": "41cf6f04",
   "metadata": {},
   "outputs": [],
   "source": [
    "def scroll():\n",
    "    # Crear una instancia de ActionChains\n",
    "    action = ActionChains(driver)\n",
    "    view_button = driver.find_element(By.CLASS_NAME, 'entel-contactos')\n",
    "    # Realizar acción de desplazamiento usando move_to_element\n",
    "    action.move_to_element(view_button ).perform()"
   ]
  },
  {
   "cell_type": "code",
   "execution_count": 105,
   "id": "a451ccde-ab71-4916-864e-77b6df31d889",
   "metadata": {},
   "outputs": [
    {
     "ename": "NoSuchElementException",
     "evalue": "Message: no such element: Unable to locate element: {\"method\":\"css selector\",\"selector\":\".productBadge__item\"}\n  (Session info: chrome=115.0.5790.110); For documentation on this error, please visit: https://www.selenium.dev/documentation/webdriver/troubleshooting/errors#no-such-element-exception\nStacktrace:\nBacktrace:\n\tGetHandleVerifier [0x00A9A813+48355]\n\t(No symbol) [0x00A2C4B1]\n\t(No symbol) [0x00935358]\n\t(No symbol) [0x009609A5]\n\t(No symbol) [0x00960B3B]\n\t(No symbol) [0x00959AE1]\n\t(No symbol) [0x0097A784]\n\t(No symbol) [0x00959A36]\n\t(No symbol) [0x0097AA94]\n\t(No symbol) [0x0098C922]\n\t(No symbol) [0x0097A536]\n\t(No symbol) [0x009582DC]\n\t(No symbol) [0x009593DD]\n\tGetHandleVerifier [0x00CFAABD+2539405]\n\tGetHandleVerifier [0x00D3A78F+2800735]\n\tGetHandleVerifier [0x00D3456C+2775612]\n\tGetHandleVerifier [0x00B251E0+616112]\n\t(No symbol) [0x00A35F8C]\n\t(No symbol) [0x00A32328]\n\t(No symbol) [0x00A3240B]\n\t(No symbol) [0x00A24FF7]\n\tBaseThreadInitThunk [0x755800C9+25]\n\tRtlGetAppContainerNamedObjectPath [0x773F7B1E+286]\n\tRtlGetAppContainerNamedObjectPath [0x773F7AEE+238]\n",
     "output_type": "error",
     "traceback": [
      "\u001b[1;31m---------------------------------------------------------------------------\u001b[0m",
      "\u001b[1;31mNoSuchElementException\u001b[0m                    Traceback (most recent call last)",
      "Cell \u001b[1;32mIn[105], line 17\u001b[0m\n\u001b[0;32m     12\u001b[0m equipos \u001b[39m=\u001b[39m driver\u001b[39m.\u001b[39mfind_elements(By\u001b[39m.\u001b[39mCLASS_NAME,\u001b[39m'\u001b[39m\u001b[39mcard-plp\u001b[39m\u001b[39m'\u001b[39m)\n\u001b[0;32m     14\u001b[0m \u001b[39m#links = [link.get_attribute('href') for link in equipos]\u001b[39;00m\n\u001b[0;32m     15\u001b[0m \u001b[39m#links_total += links\u001b[39;00m\n\u001b[1;32m---> 17\u001b[0m hola \u001b[39m=\u001b[39m [eq\u001b[39m.\u001b[39;49mfind_element(By\u001b[39m.\u001b[39;49mCLASS_NAME,\u001b[39m'\u001b[39;49m\u001b[39mproductBadge__item\u001b[39;49m\u001b[39m'\u001b[39;49m)\u001b[39m.\u001b[39;49mtext \u001b[39mfor\u001b[39;49;00m eq \u001b[39min\u001b[39;49;00m equipos]\n\u001b[0;32m     18\u001b[0m \u001b[39mprint\u001b[39m(hola)\n\u001b[0;32m     20\u001b[0m \u001b[39m#links_disponible = [if(link.find_element(By.CLASS_NAME,'productBadge__item').text == 'Agotado') for link in equipos]\u001b[39;00m\n\u001b[0;32m     21\u001b[0m \u001b[39m#links_disponible_total += links_disponible \u001b[39;00m\n",
      "Cell \u001b[1;32mIn[105], line 17\u001b[0m, in \u001b[0;36m<listcomp>\u001b[1;34m(.0)\u001b[0m\n\u001b[0;32m     12\u001b[0m equipos \u001b[39m=\u001b[39m driver\u001b[39m.\u001b[39mfind_elements(By\u001b[39m.\u001b[39mCLASS_NAME,\u001b[39m'\u001b[39m\u001b[39mcard-plp\u001b[39m\u001b[39m'\u001b[39m)\n\u001b[0;32m     14\u001b[0m \u001b[39m#links = [link.get_attribute('href') for link in equipos]\u001b[39;00m\n\u001b[0;32m     15\u001b[0m \u001b[39m#links_total += links\u001b[39;00m\n\u001b[1;32m---> 17\u001b[0m hola \u001b[39m=\u001b[39m [eq\u001b[39m.\u001b[39;49mfind_element(By\u001b[39m.\u001b[39;49mCLASS_NAME,\u001b[39m'\u001b[39;49m\u001b[39mproductBadge__item\u001b[39;49m\u001b[39m'\u001b[39;49m)\u001b[39m.\u001b[39mtext \u001b[39mfor\u001b[39;00m eq \u001b[39min\u001b[39;00m equipos]\n\u001b[0;32m     18\u001b[0m \u001b[39mprint\u001b[39m(hola)\n\u001b[0;32m     20\u001b[0m \u001b[39m#links_disponible = [if(link.find_element(By.CLASS_NAME,'productBadge__item').text == 'Agotado') for link in equipos]\u001b[39;00m\n\u001b[0;32m     21\u001b[0m \u001b[39m#links_disponible_total += links_disponible \u001b[39;00m\n",
      "File \u001b[1;32mc:\\Users\\fhuillca\\AppData\\Local\\Programs\\Python\\Python311\\Lib\\site-packages\\selenium\\webdriver\\remote\\webelement.py:417\u001b[0m, in \u001b[0;36mWebElement.find_element\u001b[1;34m(self, by, value)\u001b[0m\n\u001b[0;32m    414\u001b[0m     by \u001b[39m=\u001b[39m By\u001b[39m.\u001b[39mCSS_SELECTOR\n\u001b[0;32m    415\u001b[0m     value \u001b[39m=\u001b[39m \u001b[39mf\u001b[39m\u001b[39m'\u001b[39m\u001b[39m[name=\u001b[39m\u001b[39m\"\u001b[39m\u001b[39m{\u001b[39;00mvalue\u001b[39m}\u001b[39;00m\u001b[39m\"\u001b[39m\u001b[39m]\u001b[39m\u001b[39m'\u001b[39m\n\u001b[1;32m--> 417\u001b[0m \u001b[39mreturn\u001b[39;00m \u001b[39mself\u001b[39;49m\u001b[39m.\u001b[39;49m_execute(Command\u001b[39m.\u001b[39;49mFIND_CHILD_ELEMENT, {\u001b[39m\"\u001b[39;49m\u001b[39musing\u001b[39;49m\u001b[39m\"\u001b[39;49m: by, \u001b[39m\"\u001b[39;49m\u001b[39mvalue\u001b[39;49m\u001b[39m\"\u001b[39;49m: value})[\u001b[39m\"\u001b[39m\u001b[39mvalue\u001b[39m\u001b[39m\"\u001b[39m]\n",
      "File \u001b[1;32mc:\\Users\\fhuillca\\AppData\\Local\\Programs\\Python\\Python311\\Lib\\site-packages\\selenium\\webdriver\\remote\\webelement.py:395\u001b[0m, in \u001b[0;36mWebElement._execute\u001b[1;34m(self, command, params)\u001b[0m\n\u001b[0;32m    393\u001b[0m     params \u001b[39m=\u001b[39m {}\n\u001b[0;32m    394\u001b[0m params[\u001b[39m\"\u001b[39m\u001b[39mid\u001b[39m\u001b[39m\"\u001b[39m] \u001b[39m=\u001b[39m \u001b[39mself\u001b[39m\u001b[39m.\u001b[39m_id\n\u001b[1;32m--> 395\u001b[0m \u001b[39mreturn\u001b[39;00m \u001b[39mself\u001b[39;49m\u001b[39m.\u001b[39;49m_parent\u001b[39m.\u001b[39;49mexecute(command, params)\n",
      "File \u001b[1;32mc:\\Users\\fhuillca\\AppData\\Local\\Programs\\Python\\Python311\\Lib\\site-packages\\selenium\\webdriver\\remote\\webdriver.py:346\u001b[0m, in \u001b[0;36mWebDriver.execute\u001b[1;34m(self, driver_command, params)\u001b[0m\n\u001b[0;32m    344\u001b[0m response \u001b[39m=\u001b[39m \u001b[39mself\u001b[39m\u001b[39m.\u001b[39mcommand_executor\u001b[39m.\u001b[39mexecute(driver_command, params)\n\u001b[0;32m    345\u001b[0m \u001b[39mif\u001b[39;00m response:\n\u001b[1;32m--> 346\u001b[0m     \u001b[39mself\u001b[39;49m\u001b[39m.\u001b[39;49merror_handler\u001b[39m.\u001b[39;49mcheck_response(response)\n\u001b[0;32m    347\u001b[0m     response[\u001b[39m\"\u001b[39m\u001b[39mvalue\u001b[39m\u001b[39m\"\u001b[39m] \u001b[39m=\u001b[39m \u001b[39mself\u001b[39m\u001b[39m.\u001b[39m_unwrap_value(response\u001b[39m.\u001b[39mget(\u001b[39m\"\u001b[39m\u001b[39mvalue\u001b[39m\u001b[39m\"\u001b[39m, \u001b[39mNone\u001b[39;00m))\n\u001b[0;32m    348\u001b[0m     \u001b[39mreturn\u001b[39;00m response\n",
      "File \u001b[1;32mc:\\Users\\fhuillca\\AppData\\Local\\Programs\\Python\\Python311\\Lib\\site-packages\\selenium\\webdriver\\remote\\errorhandler.py:245\u001b[0m, in \u001b[0;36mErrorHandler.check_response\u001b[1;34m(self, response)\u001b[0m\n\u001b[0;32m    243\u001b[0m         alert_text \u001b[39m=\u001b[39m value[\u001b[39m\"\u001b[39m\u001b[39malert\u001b[39m\u001b[39m\"\u001b[39m]\u001b[39m.\u001b[39mget(\u001b[39m\"\u001b[39m\u001b[39mtext\u001b[39m\u001b[39m\"\u001b[39m)\n\u001b[0;32m    244\u001b[0m     \u001b[39mraise\u001b[39;00m exception_class(message, screen, stacktrace, alert_text)  \u001b[39m# type: ignore[call-arg]  # mypy is not smart enough here\u001b[39;00m\n\u001b[1;32m--> 245\u001b[0m \u001b[39mraise\u001b[39;00m exception_class(message, screen, stacktrace)\n",
      "\u001b[1;31mNoSuchElementException\u001b[0m: Message: no such element: Unable to locate element: {\"method\":\"css selector\",\"selector\":\".productBadge__item\"}\n  (Session info: chrome=115.0.5790.110); For documentation on this error, please visit: https://www.selenium.dev/documentation/webdriver/troubleshooting/errors#no-such-element-exception\nStacktrace:\nBacktrace:\n\tGetHandleVerifier [0x00A9A813+48355]\n\t(No symbol) [0x00A2C4B1]\n\t(No symbol) [0x00935358]\n\t(No symbol) [0x009609A5]\n\t(No symbol) [0x00960B3B]\n\t(No symbol) [0x00959AE1]\n\t(No symbol) [0x0097A784]\n\t(No symbol) [0x00959A36]\n\t(No symbol) [0x0097AA94]\n\t(No symbol) [0x0098C922]\n\t(No symbol) [0x0097A536]\n\t(No symbol) [0x009582DC]\n\t(No symbol) [0x009593DD]\n\tGetHandleVerifier [0x00CFAABD+2539405]\n\tGetHandleVerifier [0x00D3A78F+2800735]\n\tGetHandleVerifier [0x00D3456C+2775612]\n\tGetHandleVerifier [0x00B251E0+616112]\n\t(No symbol) [0x00A35F8C]\n\t(No symbol) [0x00A32328]\n\t(No symbol) [0x00A3240B]\n\t(No symbol) [0x00A24FF7]\n\tBaseThreadInitThunk [0x755800C9+25]\n\tRtlGetAppContainerNamedObjectPath [0x773F7B1E+286]\n\tRtlGetAppContainerNamedObjectPath [0x773F7AEE+238]\n"
     ]
    }
   ],
   "source": [
    "for i in range(0,10):\n",
    "\n",
    "    WebDriverWait(driver, 15).until(EC.visibility_of_element_located((By.CLASS_NAME, 'card-plp')))\n",
    "\n",
    "    #Recoge el elemento \"body\"\n",
    "    body = driver.find_element(By.TAG_NAME,\"body\")\n",
    "    # Mover el enfoque al principio del documento\n",
    "    #body.send_keys(Keys.HOME)\n",
    "    # Recoge el elemento \"body\" del html para hacer scroll al final\n",
    "    #body.send_keys(Keys.END)\n",
    "\n",
    "    equipos = driver.find_elements(By.CLASS_NAME,'card-plp')\n",
    "\n",
    "    links = [link.get_attribute('href') for link in equipos]\n",
    "    links_total += links\n",
    "\n",
    "    #REVISAR PARA SACAR SOLO DISPONIBLES\n",
    "    #links_disponible = [if(link.find_element(By.CLASS_NAME,'productBadge__item').text == 'Agotado') for link in equipos]\n",
    "    #links_disponible_total += links_disponible \n",
    "\n",
    "    \n",
    "\n",
    "    scroll()\n",
    "\n",
    "    slider_box = driver.find_element(By.CLASS_NAME, 'pagination-block')\n",
    "\n",
    "    page_slider = slider_box.find_element(By.CLASS_NAME,'page-right').click()\n",
    "\n",
    "\n",
    "\n",
    "print(len(links_total))\n",
    "#equipos = list(set(equipos)) # elimina miembros duplicados\n",
    "#print(len(equipos))\n",
    "for link in links_total:\n",
    "    print(link)\n",
    "\n",
    "\n",
    "\n"
   ]
  },
  {
   "cell_type": "code",
   "execution_count": null,
   "id": "f2d66740-98dc-48a8-833b-727e6da8e716",
   "metadata": {},
   "outputs": [],
   "source": [
    "names = [name.find_element(By.CLASS_NAME, 'info-grid-equipo').find_element(By.TAG_NAME, 'h2').text for name in equipos]\n",
    "\n",
    "for name in names:\n",
    "    print(name)\n",
    "\n",
    "    #datos.append(['equipo': name])"
   ]
  },
  {
   "cell_type": "code",
   "execution_count": null,
   "id": "2ebcf307-170e-4433-9207-83a8217dfb41",
   "metadata": {},
   "outputs": [],
   "source": [
    "modalities = [modality.find_element(By.CLASS_NAME, 'info-grid-equipo').find_element(By.TAG_NAME, 'span').text for modality in equipos]\n",
    "\n",
    "i=0\n",
    "for modality in modalities:\n",
    "    i+=1\n",
    "    print(i)\n",
    "    print(modality)"
   ]
  },
  {
   "cell_type": "code",
   "execution_count": null,
   "id": "9a397cdf-9888-4e2a-9474-db8c6a08981d",
   "metadata": {},
   "outputs": [],
   "source": [
    "driver.close()"
   ]
  },
  {
   "cell_type": "code",
   "execution_count": null,
   "id": "6d00c1e3-82a4-4f59-a3ef-84e7524e9af6",
   "metadata": {},
   "outputs": [],
   "source": [
    "i=0\n",
    "for link in links:\n",
    "    i+=1\n",
    "    print(i)\n",
    "    driver = webdriver.Chrome()\n",
    "    driver.get(link)\n",
    "    "
   ]
  },
  {
   "cell_type": "code",
   "execution_count": null,
   "id": "34f45d35-15c9-4fd9-8cbf-34873ece5cba",
   "metadata": {},
   "outputs": [],
   "source": [
    "driver = webdriver.Chrome()\n",
    "driver.get(links[0])\n",
    "x_button = driver.find_element(By.CLASS_NAME, 'modals-header').find_elements(By.TAG_NAME, 'button')\n",
    "categoria_button = driver.find_element(By.CLASS_NAME, 'js_select_category').find_elements(By.TAG_NAME, 'option')\n",
    "categoria_button[1].text\n"
   ]
  },
  {
   "cell_type": "code",
   "execution_count": null,
   "id": "52540c91-f9e6-4a60-8a53-adade9254e5c",
   "metadata": {},
   "outputs": [],
   "source": [
    "driver = webdriver.Chrome()\n",
    "driver.get(links[0])\n",
    "\n",
    "memories = driver.find_element(By.CLASS_NAME, 'memory').find_elements(By.TAG_NAME, 'span')\n",
    "#memories = driver.find_element(By.CLASS_NAME, 'memory').find_element(By.CLASS_NAME, 'js_items_memory').find_elements(By.TAG_NAME, 'span')\n",
    "print(memories[0].text)\n",
    "\n",
    "#for memory in memories:\n",
    "#    memory = WebDriverWait(driver, 10).until(EC.element_to_be_clickable((By.CLASS_NAME, 'js_items_memory')))\n",
    "#    memory.click()\n",
    "#    print(memory.text)\n",
    "\n",
    "#Si existe algun error problablemente sea porque \"no se ve\" dentro de la página abierta, este es un problema de tamño de pantalla\n",
    "#esto ocurre por el diseño responsive de la página, se soluciona agrandando la página a pantalla completa o lo necesario.\n",
    "\n",
    "# Crear una instancia de ActionChains\n",
    "action = ActionChains(driver)\n",
    "view_button = driver.find_element(By.CLASS_NAME, 'view-btn-desktop')\n",
    "# Realizar acción de desplazamiento usando move_to_element\n",
    "action.move_to_element(view_button ).perform()\n",
    "\n",
    "categoria_button = driver.find_element(By.CLASS_NAME, 'js_select_category')\n",
    "#driver.execute_script(\"arguments[0].scrollIntoView(true);\", categoria_button)\n",
    "categoria_button.click()\n",
    "categoria_button = driver.find_element(By.CLASS_NAME, 'js_select_category').find_elements(By.TAG_NAME, 'option')\n",
    "categoria_button[1].click() #Elige renovación\n",
    "close_button = driver.find_element(By.CLASS_NAME, 'modal-renovacion-validar__close')\n",
    "close_button.click()\n",
    "\n",
    "fee_button = driver.find_element(By.CLASS_NAME, 'js_select_fee')\n",
    "fee_button.click()\n",
    "fee_button = driver.find_element(By.CLASS_NAME, 'js_select_fee').find_elements(By.TAG_NAME, 'option')\n",
    "fee_button[0].click() #Elige Al Contado\n",
    "\n",
    "plan_button = WebDriverWait(driver, 10).until(EC.element_to_be_clickable((By.CLASS_NAME, 'js_select_plan')))\n",
    "plan_button.click()\n",
    "plan_button = driver.find_element(By.CLASS_NAME, 'js_select_plan').find_elements(By.TAG_NAME, 'option')\n",
    "\n",
    "# Hay cre crear una lista y guardar en esa lista cada diccionario dict\n",
    "for plan in plan_button:\n",
    "    nombre_plan = plan.text\n",
    "    print(nombre_plan)\n",
    "    plan = WebDriverWait(driver, 10).until(EC.element_to_be_clickable((By.CLASS_NAME, 'js_select_plan')))\n",
    "    plan.click() #Elige plan\n",
    "    #print(plan.text)\n",
    "    price = driver.find_element(By.CLASS_NAME, 'js_price_cash')\n",
    "    print(price.text)\n",
    "    dict[nombre_plan] = price.text \n",
    "\n"
   ]
  },
  {
   "cell_type": "code",
   "execution_count": null,
   "id": "d309a75d-3584-43e0-8bae-44eb31bb1f23",
   "metadata": {},
   "outputs": [],
   "source": [
    "print(dict)"
   ]
  },
  {
   "cell_type": "code",
   "execution_count": null,
   "id": "32230bc0-042c-4e31-b380-555c5f380931",
   "metadata": {},
   "outputs": [],
   "source": [
    "# Iterar sobre las listas 'links' y 'names' al mismo tiempo utilizando zip()\n",
    "for link, name in zip(links, names, memories, modalities, planes, prices):\n",
    "    # Crear un diccionario para cada equipo con las llaves 'link' y 'equipo'\n",
    "    equipo_data = {\n",
    "        'link': link,\n",
    "        'equipo': name,\n",
    "        'memoria': memory,\n",
    "        'modalidad': modality,\n",
    "        'plan': plan,\n",
    "        'precio': precio\n",
    "    }\n",
    "\n",
    "    # Agregar el diccionario a la lista 'datos'\n",
    "    datos.append(equipo_data)"
   ]
  },
  {
   "cell_type": "code",
   "execution_count": null,
   "id": "3bbadadb-671e-4481-80c7-dd285929fd90",
   "metadata": {},
   "outputs": [],
   "source": [
    "# Iterar sobre las listas 'links' y 'names' al mismo tiempo utilizando zip()\n",
    "for link, name, modality in zip(links, names, modalities):\n",
    "    # Crear un diccionario para cada equipo con las llaves 'link' y 'equipo'\n",
    "    equipo_data = {\n",
    "        'link': link,\n",
    "        'equipo': name,\n",
    "        'modalidad': modality\n",
    "    }\n",
    "\n",
    "    # Agregar el diccionario a la lista 'datos'\n",
    "    datos.append(equipo_data)\n",
    "print(len(datos))\n",
    "print(datos)\n",
    "#datos.clear()"
   ]
  },
  {
   "cell_type": "code",
   "execution_count": null,
   "id": "0713b8d3-3df6-4dd8-8a1b-21aa91b258a9",
   "metadata": {},
   "outputs": [],
   "source": [
    "# Crear un DataFrame a partir de los datos\n",
    "df = pd.DataFrame(datos)\n",
    "\n",
    "# Opcional: Si quieres cambiar el orden de las columnas en el DataFrame\n",
    "#column_order = ['equipo', 'link', 'modalidad']\n",
    "#df = df[column_order]\n",
    "\n",
    "df.columns = ['link', 'equipo', 'modalidad']\n",
    "\n",
    "# Guardar el DataFrame en un archivo Excel\n",
    "nombre_archivo_excel = 'datos_productos.xlsx'\n",
    "df.to_excel(nombre_archivo_excel)\n",
    "\n",
    "print(f\"DataFrame guardado en el archivo '{nombre_archivo_excel}'.\")\n"
   ]
  },
  {
   "cell_type": "code",
   "execution_count": null,
   "id": "0a71f602-23f1-4a14-961b-3b29ec6701ae",
   "metadata": {},
   "outputs": [],
   "source": []
  }
 ],
 "metadata": {
  "kernelspec": {
   "display_name": "Python 3 (ipykernel)",
   "language": "python",
   "name": "python3"
  },
  "language_info": {
   "codemirror_mode": {
    "name": "ipython",
    "version": 3
   },
   "file_extension": ".py",
   "mimetype": "text/x-python",
   "name": "python",
   "nbconvert_exporter": "python",
   "pygments_lexer": "ipython3",
   "version": "3.11.4"
  }
 },
 "nbformat": 4,
 "nbformat_minor": 5
}
