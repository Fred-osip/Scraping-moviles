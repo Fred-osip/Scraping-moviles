{
 "cells": [
  {
   "cell_type": "code",
   "execution_count": 49,
   "id": "cdb5b88c-3a7e-4f1e-9a7f-b5a7dfaba110",
   "metadata": {},
   "outputs": [],
   "source": [
    "from selenium import webdriver\n",
    "from selenium.webdriver.common.by import By\n",
    "from selenium.webdriver.support.ui import WebDriverWait\n",
    "from selenium.webdriver.support import expected_conditions as EC\n",
    "from selenium.webdriver.common.action_chains import ActionChains\n",
    "from selenium.webdriver.common.keys import Keys\n",
    "import pandas as pd"
   ]
  },
  {
   "cell_type": "code",
   "execution_count": 62,
   "id": "480de111-ffd2-42aa-ac3a-514bf35f25a8",
   "metadata": {},
   "outputs": [],
   "source": [
    "url = \"https://www.tiendaclaro.pe/personas/catalogo-celulares?page=\"\n",
    "pages = 50 # Número máximo de páginas a recorrer (el link cambia con el valor y lo usamos para recorrerlo)\n",
    "datos = []\n",
    "links_total = []\n",
    "dict = {}"
   ]
  },
  {
   "cell_type": "code",
   "execution_count": 63,
   "id": "bd2f4541-1feb-4551-8928-b6ca7b1972a2",
   "metadata": {},
   "outputs": [],
   "source": [
    "page_links = [str(url + str(i)) for i in range(1, pages + 1)]\n",
    "\n",
    "#for page_link in page_links:\n",
    "#    print(page_link)"
   ]
  },
  {
   "cell_type": "code",
   "execution_count": 64,
   "id": "f69ecf93-8307-4735-bd56-15e9a9140354",
   "metadata": {},
   "outputs": [],
   "source": [
    "links_prueba = page_links[:2]"
   ]
  },
  {
   "cell_type": "code",
   "execution_count": 69,
   "id": "03ef1872-0e8c-4296-9d9d-f2bda4b29c2c",
   "metadata": {},
   "outputs": [
    {
     "name": "stdout",
     "output_type": "stream",
     "text": [
      "1\n"
     ]
    },
    {
     "ename": "StaleElementReferenceException",
     "evalue": "Message: stale element reference: stale element not found\n  (Session info: chrome=115.0.5790.110); For documentation on this error, please visit: https://www.selenium.dev/documentation/webdriver/troubleshooting/errors#stale-element-reference-exception\nStacktrace:\nBacktrace:\n\tGetHandleVerifier [0x006CA813+48355]\n\t(No symbol) [0x0065C4B1]\n\t(No symbol) [0x00565358]\n\t(No symbol) [0x005687A1]\n\t(No symbol) [0x005699E1]\n\t(No symbol) [0x00569A80]\n\t(No symbol) [0x0059061C]\n\t(No symbol) [0x00590B3B]\n\t(No symbol) [0x00589AE1]\n\t(No symbol) [0x005AA784]\n\t(No symbol) [0x00589A36]\n\t(No symbol) [0x005AAA94]\n\t(No symbol) [0x005BC922]\n\t(No symbol) [0x005AA536]\n\t(No symbol) [0x005882DC]\n\t(No symbol) [0x005893DD]\n\tGetHandleVerifier [0x0092AABD+2539405]\n\tGetHandleVerifier [0x0096A78F+2800735]\n\tGetHandleVerifier [0x0096456C+2775612]\n\tGetHandleVerifier [0x007551E0+616112]\n\t(No symbol) [0x00665F8C]\n\t(No symbol) [0x00662328]\n\t(No symbol) [0x0066240B]\n\t(No symbol) [0x00654FF7]\n\tBaseThreadInitThunk [0x756700C9+25]\n\tRtlGetAppContainerNamedObjectPath [0x773D7B1E+286]\n\tRtlGetAppContainerNamedObjectPath [0x773D7AEE+238]\n",
     "output_type": "error",
     "traceback": [
      "\u001b[1;31m---------------------------------------------------------------------------\u001b[0m",
      "\u001b[1;31mStaleElementReferenceException\u001b[0m            Traceback (most recent call last)",
      "Cell \u001b[1;32mIn[69], line 26\u001b[0m\n\u001b[0;32m     23\u001b[0m \u001b[38;5;28;01mfor\u001b[39;00m link \u001b[38;5;129;01min\u001b[39;00m equipos:\n\u001b[0;32m     25\u001b[0m     href \u001b[38;5;241m=\u001b[39m WebDriverWait(driver, \u001b[38;5;241m10\u001b[39m)\u001b[38;5;241m.\u001b[39muntil(EC\u001b[38;5;241m.\u001b[39mpresence_of_element_located((By\u001b[38;5;241m.\u001b[39mTAG_NAME, \u001b[38;5;124m'\u001b[39m\u001b[38;5;124ma\u001b[39m\u001b[38;5;124m'\u001b[39m)))\n\u001b[1;32m---> 26\u001b[0m     href \u001b[38;5;241m=\u001b[39m \u001b[43mlink\u001b[49m\u001b[38;5;241;43m.\u001b[39;49m\u001b[43mfind_element\u001b[49m\u001b[43m(\u001b[49m\u001b[43mBy\u001b[49m\u001b[38;5;241;43m.\u001b[39;49m\u001b[43mTAG_NAME\u001b[49m\u001b[43m,\u001b[49m\u001b[43m \u001b[49m\u001b[38;5;124;43m'\u001b[39;49m\u001b[38;5;124;43ma\u001b[39;49m\u001b[38;5;124;43m'\u001b[39;49m\u001b[43m)\u001b[49m\u001b[38;5;241m.\u001b[39mget_attribute(\u001b[38;5;124m'\u001b[39m\u001b[38;5;124mhref\u001b[39m\u001b[38;5;124m'\u001b[39m)       \n\u001b[0;32m     27\u001b[0m     links\u001b[38;5;241m.\u001b[39mappend(href)\n\u001b[0;32m     30\u001b[0m \u001b[38;5;66;03m#links = [link.find_element(By.TAG_NAME, 'a').get_attribute('href') for link in equipos]\u001b[39;00m\n",
      "File \u001b[1;32m~\\AppData\\Local\\Programs\\Python\\Python311\\Lib\\site-packages\\selenium\\webdriver\\remote\\webelement.py:417\u001b[0m, in \u001b[0;36mWebElement.find_element\u001b[1;34m(self, by, value)\u001b[0m\n\u001b[0;32m    414\u001b[0m     by \u001b[38;5;241m=\u001b[39m By\u001b[38;5;241m.\u001b[39mCSS_SELECTOR\n\u001b[0;32m    415\u001b[0m     value \u001b[38;5;241m=\u001b[39m \u001b[38;5;124mf\u001b[39m\u001b[38;5;124m'\u001b[39m\u001b[38;5;124m[name=\u001b[39m\u001b[38;5;124m\"\u001b[39m\u001b[38;5;132;01m{\u001b[39;00mvalue\u001b[38;5;132;01m}\u001b[39;00m\u001b[38;5;124m\"\u001b[39m\u001b[38;5;124m]\u001b[39m\u001b[38;5;124m'\u001b[39m\n\u001b[1;32m--> 417\u001b[0m \u001b[38;5;28;01mreturn\u001b[39;00m \u001b[38;5;28;43mself\u001b[39;49m\u001b[38;5;241;43m.\u001b[39;49m\u001b[43m_execute\u001b[49m\u001b[43m(\u001b[49m\u001b[43mCommand\u001b[49m\u001b[38;5;241;43m.\u001b[39;49m\u001b[43mFIND_CHILD_ELEMENT\u001b[49m\u001b[43m,\u001b[49m\u001b[43m \u001b[49m\u001b[43m{\u001b[49m\u001b[38;5;124;43m\"\u001b[39;49m\u001b[38;5;124;43musing\u001b[39;49m\u001b[38;5;124;43m\"\u001b[39;49m\u001b[43m:\u001b[49m\u001b[43m \u001b[49m\u001b[43mby\u001b[49m\u001b[43m,\u001b[49m\u001b[43m \u001b[49m\u001b[38;5;124;43m\"\u001b[39;49m\u001b[38;5;124;43mvalue\u001b[39;49m\u001b[38;5;124;43m\"\u001b[39;49m\u001b[43m:\u001b[49m\u001b[43m \u001b[49m\u001b[43mvalue\u001b[49m\u001b[43m}\u001b[49m\u001b[43m)\u001b[49m[\u001b[38;5;124m\"\u001b[39m\u001b[38;5;124mvalue\u001b[39m\u001b[38;5;124m\"\u001b[39m]\n",
      "File \u001b[1;32m~\\AppData\\Local\\Programs\\Python\\Python311\\Lib\\site-packages\\selenium\\webdriver\\remote\\webelement.py:395\u001b[0m, in \u001b[0;36mWebElement._execute\u001b[1;34m(self, command, params)\u001b[0m\n\u001b[0;32m    393\u001b[0m     params \u001b[38;5;241m=\u001b[39m {}\n\u001b[0;32m    394\u001b[0m params[\u001b[38;5;124m\"\u001b[39m\u001b[38;5;124mid\u001b[39m\u001b[38;5;124m\"\u001b[39m] \u001b[38;5;241m=\u001b[39m \u001b[38;5;28mself\u001b[39m\u001b[38;5;241m.\u001b[39m_id\n\u001b[1;32m--> 395\u001b[0m \u001b[38;5;28;01mreturn\u001b[39;00m \u001b[38;5;28;43mself\u001b[39;49m\u001b[38;5;241;43m.\u001b[39;49m\u001b[43m_parent\u001b[49m\u001b[38;5;241;43m.\u001b[39;49m\u001b[43mexecute\u001b[49m\u001b[43m(\u001b[49m\u001b[43mcommand\u001b[49m\u001b[43m,\u001b[49m\u001b[43m \u001b[49m\u001b[43mparams\u001b[49m\u001b[43m)\u001b[49m\n",
      "File \u001b[1;32m~\\AppData\\Local\\Programs\\Python\\Python311\\Lib\\site-packages\\selenium\\webdriver\\remote\\webdriver.py:346\u001b[0m, in \u001b[0;36mWebDriver.execute\u001b[1;34m(self, driver_command, params)\u001b[0m\n\u001b[0;32m    344\u001b[0m response \u001b[38;5;241m=\u001b[39m \u001b[38;5;28mself\u001b[39m\u001b[38;5;241m.\u001b[39mcommand_executor\u001b[38;5;241m.\u001b[39mexecute(driver_command, params)\n\u001b[0;32m    345\u001b[0m \u001b[38;5;28;01mif\u001b[39;00m response:\n\u001b[1;32m--> 346\u001b[0m     \u001b[38;5;28;43mself\u001b[39;49m\u001b[38;5;241;43m.\u001b[39;49m\u001b[43merror_handler\u001b[49m\u001b[38;5;241;43m.\u001b[39;49m\u001b[43mcheck_response\u001b[49m\u001b[43m(\u001b[49m\u001b[43mresponse\u001b[49m\u001b[43m)\u001b[49m\n\u001b[0;32m    347\u001b[0m     response[\u001b[38;5;124m\"\u001b[39m\u001b[38;5;124mvalue\u001b[39m\u001b[38;5;124m\"\u001b[39m] \u001b[38;5;241m=\u001b[39m \u001b[38;5;28mself\u001b[39m\u001b[38;5;241m.\u001b[39m_unwrap_value(response\u001b[38;5;241m.\u001b[39mget(\u001b[38;5;124m\"\u001b[39m\u001b[38;5;124mvalue\u001b[39m\u001b[38;5;124m\"\u001b[39m, \u001b[38;5;28;01mNone\u001b[39;00m))\n\u001b[0;32m    348\u001b[0m     \u001b[38;5;28;01mreturn\u001b[39;00m response\n",
      "File \u001b[1;32m~\\AppData\\Local\\Programs\\Python\\Python311\\Lib\\site-packages\\selenium\\webdriver\\remote\\errorhandler.py:245\u001b[0m, in \u001b[0;36mErrorHandler.check_response\u001b[1;34m(self, response)\u001b[0m\n\u001b[0;32m    243\u001b[0m         alert_text \u001b[38;5;241m=\u001b[39m value[\u001b[38;5;124m\"\u001b[39m\u001b[38;5;124malert\u001b[39m\u001b[38;5;124m\"\u001b[39m]\u001b[38;5;241m.\u001b[39mget(\u001b[38;5;124m\"\u001b[39m\u001b[38;5;124mtext\u001b[39m\u001b[38;5;124m\"\u001b[39m)\n\u001b[0;32m    244\u001b[0m     \u001b[38;5;28;01mraise\u001b[39;00m exception_class(message, screen, stacktrace, alert_text)  \u001b[38;5;66;03m# type: ignore[call-arg]  # mypy is not smart enough here\u001b[39;00m\n\u001b[1;32m--> 245\u001b[0m \u001b[38;5;28;01mraise\u001b[39;00m exception_class(message, screen, stacktrace)\n",
      "\u001b[1;31mStaleElementReferenceException\u001b[0m: Message: stale element reference: stale element not found\n  (Session info: chrome=115.0.5790.110); For documentation on this error, please visit: https://www.selenium.dev/documentation/webdriver/troubleshooting/errors#stale-element-reference-exception\nStacktrace:\nBacktrace:\n\tGetHandleVerifier [0x006CA813+48355]\n\t(No symbol) [0x0065C4B1]\n\t(No symbol) [0x00565358]\n\t(No symbol) [0x005687A1]\n\t(No symbol) [0x005699E1]\n\t(No symbol) [0x00569A80]\n\t(No symbol) [0x0059061C]\n\t(No symbol) [0x00590B3B]\n\t(No symbol) [0x00589AE1]\n\t(No symbol) [0x005AA784]\n\t(No symbol) [0x00589A36]\n\t(No symbol) [0x005AAA94]\n\t(No symbol) [0x005BC922]\n\t(No symbol) [0x005AA536]\n\t(No symbol) [0x005882DC]\n\t(No symbol) [0x005893DD]\n\tGetHandleVerifier [0x0092AABD+2539405]\n\tGetHandleVerifier [0x0096A78F+2800735]\n\tGetHandleVerifier [0x0096456C+2775612]\n\tGetHandleVerifier [0x007551E0+616112]\n\t(No symbol) [0x00665F8C]\n\t(No symbol) [0x00662328]\n\t(No symbol) [0x0066240B]\n\t(No symbol) [0x00654FF7]\n\tBaseThreadInitThunk [0x756700C9+25]\n\tRtlGetAppContainerNamedObjectPath [0x773D7B1E+286]\n\tRtlGetAppContainerNamedObjectPath [0x773D7AEE+238]\n"
     ]
    }
   ],
   "source": [
    "i = 0\n",
    "for page_link in links_prueba:\n",
    "    driver = webdriver.Chrome()\n",
    "    driver.get(page_link)\n",
    "    i += 1\n",
    "    print(i)\n",
    "\n",
    "    # Esperar hasta que un elemento específico esté presente en la página\n",
    "    try:\n",
    "        elemento_esperado = WebDriverWait(driver, 15).until(EC.presence_of_element_located((By.CLASS_NAME, 'vtex-search-result-3-x-gallery--gallery-search-catalog')))\n",
    "        # Realizar acciones una vez que el elemento esté presente en la página\n",
    "        # ...\n",
    "    except TimeoutException:\n",
    "        print(\"El elemento no se encontró en la página después de esperar 10 segundos.\")\n",
    "    \n",
    "    # Recoge el elemento \"body\" del html para hacer scroll al final\n",
    "    body = driver.find_element(By.TAG_NAME,\"body\")\n",
    "    body.send_keys(Keys.END)\n",
    "    \n",
    "    equipos = driver.find_element(By.CLASS_NAME, 'vtex-search-result-3-x-gallery--gallery-search-catalog').find_elements(By.CLASS_NAME, 'vtex-product-summary-2-x-container')\n",
    "\n",
    "\n",
    "    for link in equipos:\n",
    "\n",
    "        href = WebDriverWait(driver, 10).until(EC.presence_of_element_located((By.TAG_NAME, 'a')))\n",
    "        href = link.find_element(By.TAG_NAME, 'a').get_attribute('href')       \n",
    "        links.append(href)\n",
    "    \n",
    "    \n",
    "    #links = [link.find_element(By.TAG_NAME, 'a').get_attribute('href') for link in equipos]\n",
    "    links_total += links \n",
    "\n",
    "    driver.quit()\n",
    "\n",
    "print(len(links_total))\n",
    "links_total\n"
   ]
  },
  {
   "cell_type": "code",
   "execution_count": 59,
   "id": "a6bb8397-174a-418d-a6a0-c6fd709e3341",
   "metadata": {},
   "outputs": [],
   "source": [
    "driver = webdriver.Chrome()\n",
    "driver.get(page_links[3])"
   ]
  },
  {
   "cell_type": "code",
   "execution_count": 61,
   "id": "f1b574a7-2770-4c6e-bf63-daad91b73e03",
   "metadata": {},
   "outputs": [
    {
     "name": "stdout",
     "output_type": "stream",
     "text": [
      "Equipos encontrados -> 12\n",
      "https://www.tiendaclaro.pe/apple-iphone-13-128gb-starlight-renovacion-postpago-plan-max-ilimitado-69-9-p/p?cuota=0&skuId=75575\n",
      "https://www.tiendaclaro.pe/apple-iphone-13-128gb-starlight-portabilidad-postpago-plan-max-ilimitado-69-9-p/p?cuota=0&skuId=75500\n",
      "https://www.tiendaclaro.pe/apple-iphone-14-128gb-midnight-renovacion-postpago-plan-max-ilimitado-69-9-p/p?cuota=0&skuId=156326\n",
      "https://www.tiendaclaro.pe/apple-iphone-14-plus-128gb-midnight-renovacion-postpago-plan-max-ilimitado-69-9-p/p?cuota=0&skuId=169372\n",
      "https://www.tiendaclaro.pe/apple-iphone-14-plus-128gb-midnight-portabilidad-postpago-plan-max-ilimitado-69-9-p/p?cuota=0&skuId=169297\n",
      "https://www.tiendaclaro.pe/apple-iphone-14-plus-128gb-starlight-renovacion-postpago-plan-max-ilimitado-69-9-p/p\n",
      "https://www.tiendaclaro.pe/apple-iphone-14-pro-max-128gb-silver-renovacion-postpago-plan-max-ilimitado-69-9-p/p?cuota=0&skuId=161399\n",
      "https://www.tiendaclaro.pe/apple-iphone-14-pro-max-128gb-silver-portabilidad-postpago-plan-max-ilimitado-69-9-p/p?cuota=0&skuId=161321\n",
      "https://www.tiendaclaro.pe/apple-iphone-14-pro-max-128gb-space-black-renovacion-postpago-plan-max-ilimitado-69-9-p/p\n",
      "https://www.tiendaclaro.pe/apple-iphone-14-128gb-pro-silver-portabilidad-postpago-plan-max-ilimitado-69-9-p/p\n",
      "https://www.tiendaclaro.pe/apple-iphone-14-128gb-pro-space-black-renovacion-postpago-plan-max-ilimitado-69-9-p/p?cuota=0&skuId=157847\n",
      "https://www.tiendaclaro.pe/apple-iphone-14-128gb-pro-space-black-portabilidad-postpago-plan-max-ilimitado-69-9-p/p?cuota=0&skuId=157772\n"
     ]
    }
   ],
   "source": [
    "# Recoge el elemento \"body\" del html para hacer scroll al final\n",
    "body = driver.find_element(By.TAG_NAME,\"body\")\n",
    "body.send_keys(Keys.END)\n",
    "\n",
    "equipos = driver.find_element(By.CLASS_NAME, 'vtex-search-result-3-x-gallery--gallery-search-catalog').find_elements(By.CLASS_NAME, 'vtex-product-summary-2-x-container')\n",
    "\n",
    "links = [link.find_element(By.TAG_NAME, 'a').get_attribute('href') for link in equipos]\n",
    "\n",
    "print(\"Equipos encontrados ->\", len(links))\n",
    "for link in links:\n",
    "    print(link)\n",
    "\n",
    "\n"
   ]
  },
  {
   "cell_type": "code",
   "execution_count": null,
   "id": "83838304-c3c9-4c59-836a-dad70b06f2ca",
   "metadata": {},
   "outputs": [],
   "source": []
  }
 ],
 "metadata": {
  "kernelspec": {
   "display_name": "Python 3 (ipykernel)",
   "language": "python",
   "name": "python3"
  },
  "language_info": {
   "codemirror_mode": {
    "name": "ipython",
    "version": 3
   },
   "file_extension": ".py",
   "mimetype": "text/x-python",
   "name": "python",
   "nbconvert_exporter": "python",
   "pygments_lexer": "ipython3",
   "version": "3.11.4"
  }
 },
 "nbformat": 4,
 "nbformat_minor": 5
}
